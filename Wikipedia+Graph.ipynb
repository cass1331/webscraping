{
 "cells": [
  {
   "cell_type": "code",
   "execution_count": 1,
   "metadata": {
    "collapsed": true
   },
   "outputs": [],
   "source": [
    "import requests, time\n",
    "from bs4 import BeautifulSoup as bs, SoupStrainer as ss \n",
    "import pandas as pd, numpy as np\n",
    "import networkx as nx\n",
    "import matplotlib.pyplot as plt\n",
    "%matplotlib inline"
   ]
  },
  {
   "cell_type": "code",
   "execution_count": 2,
   "metadata": {
    "collapsed": true
   },
   "outputs": [],
   "source": [
    "prunes = ['Ancient_Greek','International_Phonetic_Alphabet','Greek_language','Help:IPA_for_Greek']\n",
    "plumbs = ['Help:', 'Talk:']\n",
    "loop = ['Philosophy','Education','Learning',\n",
    "        'Knowledge','Awareness','Quality_(philosophy)']\n",
    "loopies = [ ['Lyndon_LaRouche','LaRouche_movement'], \n",
    "           ['World_War_II','Allies_of_World_War_II','Declaration_by_United_Nations'] ]"
   ]
  },
  {
   "cell_type": "markdown",
   "metadata": {},
   "source": [
    "# Harvest wiki data\n",
    "There is a main central loop. We'll expand from that and collect some main highways to this page."
   ]
  },
  {
   "cell_type": "code",
   "execution_count": 77,
   "metadata": {
    "collapsed": true
   },
   "outputs": [],
   "source": [
    "def links(page):\n",
    "    '''\n",
    "    Given a page, return a list of the hrefs appearing in \n",
    "    the first paragraph\n",
    "    \n",
    "    Returns: list(str):  \n",
    "    '''\n",
    "    url = 'https://en.wikipedia.org/wiki/%s' %page\n",
    "    r = requests.get(url)\n",
    "    main_div = ss('div', {'id': 'mw-content-text'})\n",
    "    soup = bs(r.text,'lxml', parse_only=main_div)\n",
    "    \n",
    "    p = soup.find('p')\n",
    "    links = [a['href'] for a in p.find_all('a')]\n",
    "    \n",
    "    refs = [link[6:] for link in links if link[:6]=='/wiki/']\n",
    "    good_refs = [ref for ref in refs if ref not in prunes \n",
    "                             and ':' not in ref \n",
    "                             and 'disambiguation' not in ref]\n",
    "    return good_refs"
   ]
  },
  {
   "cell_type": "code",
   "execution_count": 11,
   "metadata": {
    "collapsed": false
   },
   "outputs": [],
   "source": [
    "def all_links(page):\n",
    "    '''\n",
    "    Given a page, return a list of all the hrefs appearing\n",
    "    on the page \n",
    "    \n",
    "    Returns: list(str):  \n",
    "    '''\n",
    "    \n",
    "    url = 'https://en.wikipedia.org/wiki/%s' %page\n",
    "    r = requests.get(url)\n",
    "    main_div = ss('div', {'id': 'mw-content-text'})\n",
    "    soup = bs(r.text,'lxml', parse_only=main_div)\n",
    "    \n",
    "    ps = soup.find_all('p')\n",
    "    links = [a['href'] for p in ps for a in p.find_all('a')]\n",
    "    refs = [link[6:] for link in links if link[:6]=='/wiki/']\n",
    "    good_refs = [ref for ref in refs if ref not in prunes \n",
    "                             and ':' not in ref \n",
    "                             and 'disambiguation' not in ref]\n",
    "    return good_refs"
   ]
  },
  {
   "cell_type": "code",
   "execution_count": 102,
   "metadata": {
    "collapsed": false
   },
   "outputs": [
    {
     "data": {
      "text/plain": [
       "['/wiki/String_instrument',\n",
       " '/wiki/Violin_family',\n",
       " '/wiki/Violino_piccolo',\n",
       " '/wiki/Kit_violin',\n",
       " '/wiki/Strings_(music)',\n",
       " '/wiki/Perfect_fifth',\n",
       " '/wiki/Bow_(music)',\n",
       " '/wiki/Pizzicato',\n",
       " '/wiki/Western_classical_music',\n",
       " '/wiki/Folk_music',\n",
       " '/wiki/Country_music',\n",
       " '/wiki/Bluegrass_music',\n",
       " '/wiki/Jazz',\n",
       " '/wiki/Electric_violin',\n",
       " '/wiki/Rock_music',\n",
       " '/wiki/Indian_music',\n",
       " '/wiki/Iranian_music',\n",
       " '/wiki/Fiddle',\n",
       " '/wiki/Italian_Peninsula',\n",
       " '#cite_note-1',\n",
       " '#cite_note-heron-2',\n",
       " '#cite_note-3',\n",
       " '/wiki/Stradivari',\n",
       " '/wiki/Guarneri',\n",
       " '/wiki/Amati',\n",
       " '/wiki/Brescia',\n",
       " '/wiki/Cremona',\n",
       " '/wiki/Jacob_Stainer',\n",
       " '/wiki/Austria',\n",
       " '#cite_note-NYT-201430407-4',\n",
       " '#cite_note-5',\n",
       " '/wiki/Saxony',\n",
       " '/wiki/Bohemia',\n",
       " '/wiki/Mirecourt',\n",
       " '/wiki/Sears',\n",
       " '/wiki/Wood',\n",
       " '/wiki/Electric_violin',\n",
       " '/wiki/Musical_acoustics',\n",
       " '/wiki/Pickup_(music_technology)',\n",
       " '/wiki/Guitar_amplifier',\n",
       " '/wiki/Catgut',\n",
       " '/wiki/Nylon_6',\n",
       " '/wiki/Luthier',\n",
       " '#cite_note-6',\n",
       " '/wiki/Viola',\n",
       " '/wiki/Vitula',\n",
       " '#cite_note-7',\n",
       " '/wiki/Viola_da_gamba',\n",
       " '#cite_note-8',\n",
       " '/wiki/Viola_da_braccio',\n",
       " '#cite_note-9',\n",
       " '#cite_note-10',\n",
       " '#cite_note-11',\n",
       " '#cite_note-12',\n",
       " '#cite_note-13',\n",
       " '/wiki/Lyre',\n",
       " '/wiki/Bow_(music)',\n",
       " '/wiki/Equestrianism',\n",
       " '/wiki/Mongolia',\n",
       " '/wiki/Morin_huur',\n",
       " '/wiki/Kazakhstan',\n",
       " '/wiki/Kobyz',\n",
       " '#cite_note-14',\n",
       " '#cite_note-15',\n",
       " '/wiki/Byzantine_Empire',\n",
       " '#cite_note-Grillet29-16',\n",
       " '#cite_note-17',\n",
       " '/wiki/Byzantine_lira',\n",
       " '/wiki/Rebec',\n",
       " '#cite_note-18',\n",
       " '/wiki/Arabic_music',\n",
       " '/wiki/Rebab',\n",
       " '/wiki/Vielle',\n",
       " '/wiki/Lira_da_braccio',\n",
       " '#cite_note-Grillet29-16',\n",
       " '#cite_note-19',\n",
       " '/wiki/Italy',\n",
       " '/wiki/Jambe_de_Fer',\n",
       " '/wiki/Lyon',\n",
       " '#cite_note-20',\n",
       " '/wiki/Europe',\n",
       " '/wiki/Charles_IX_of_France',\n",
       " '#cite_note-21',\n",
       " '/wiki/Gasparo_da_Sal%C3%B2',\n",
       " '/wiki/Ferdinand_II,_Archduke_of_Austria',\n",
       " '/wiki/Ole_Bull',\n",
       " '#cite_note-22',\n",
       " '/wiki/Messiah_Stradivarius',\n",
       " '/wiki/Antonio_Stradivari',\n",
       " '/wiki/Ashmolean_Museum',\n",
       " '/wiki/Oxford',\n",
       " '#cite_note-23',\n",
       " '/wiki/Category:Violin_makers',\n",
       " '/wiki/Luthiers',\n",
       " '#cite_note-25',\n",
       " '/wiki/Pound_sterling',\n",
       " '/wiki/US$',\n",
       " '/wiki/Lady_Blunt_Stradivarius',\n",
       " '/wiki/Tarisio_Auctions',\n",
       " '#cite_note-26',\n",
       " '/wiki/Spruce',\n",
       " '/wiki/Sound_board_(music)',\n",
       " '/wiki/Neck_(music)',\n",
       " '/wiki/Bridge_(instrument)',\n",
       " '/wiki/Chinrest',\n",
       " '/wiki/Tailpiece',\n",
       " '/wiki/Arch',\n",
       " '/wiki/Bow_(music)',\n",
       " '/wiki/Varnish#Violin',\n",
       " '/wiki/Hide_glue',\n",
       " '/wiki/Purfling',\n",
       " '/wiki/Faux',\n",
       " '/wiki/Maple',\n",
       " '/wiki/Figure_(wood)',\n",
       " '/wiki/Neck_(music)',\n",
       " '/wiki/Fingerboard',\n",
       " '/wiki/Ebony',\n",
       " '/wiki/Scroll_(music)',\n",
       " '/wiki/Baroque',\n",
       " '/wiki/Bridge_(instrument)',\n",
       " '/wiki/Sound_post',\n",
       " '/wiki/Tailpiece',\n",
       " '/wiki/Tuning_peg',\n",
       " '/wiki/Silk',\n",
       " '/wiki/Strings_(music)',\n",
       " '/wiki/Catgut',\n",
       " '/wiki/Steel',\n",
       " '/wiki/Silver',\n",
       " '/wiki/Historically_informed_performance',\n",
       " '/wiki/Baroque_music',\n",
       " '/wiki/Scientific_pitch_notation',\n",
       " '/wiki/Middle_C',\n",
       " '#cite_note-27',\n",
       " '/wiki/Artificial_harmonic',\n",
       " '/wiki/Node_(physics)',\n",
       " '/wiki/Ernst_Chladni',\n",
       " '/wiki/Luthier',\n",
       " '#cite_note-28',\n",
       " '/wiki/Kit_violin',\n",
       " '/wiki/Viola#Form',\n",
       " '/wiki/Violin_octet',\n",
       " '/wiki/Tuning_peg',\n",
       " '/wiki/Tailpiece',\n",
       " '/wiki/Young%27s_modulus',\n",
       " '/wiki/Pitch_(music)#Concert_pitch',\n",
       " '/wiki/Pitch_(music)',\n",
       " '/wiki/Hertz',\n",
       " '/wiki/Perfect_fifth',\n",
       " '/wiki/Concert_pitch#History_of_pitch_standards_in_Western_music',\n",
       " '/wiki/F-hole',\n",
       " '/wiki/Folk_music',\n",
       " '/wiki/European_classical_music',\n",
       " '/wiki/Scordatura',\n",
       " '/wiki/Cross_tuning',\n",
       " '/wiki/Camille_Saint-Sa%C3%ABns',\n",
       " '/wiki/Danse_Macabre_(Saint-Sa%C3%ABns)',\n",
       " '/wiki/B%C3%A9la_Bart%C3%B3k',\n",
       " '/wiki/Mystery_Sonatas',\n",
       " '/wiki/Carnatic_music',\n",
       " '/wiki/Hindustani_classical_music',\n",
       " '/wiki/Persian_traditional_music',\n",
       " '/wiki/Iranian_traditional_music',\n",
       " '/wiki/Musical_composition',\n",
       " '/wiki/Persian_traditional_music',\n",
       " '/wiki/Whole_step',\n",
       " '/wiki/Arabian_maqam',\n",
       " '/wiki/Quarter_tone',\n",
       " '/wiki/Bow_(music)',\n",
       " '/wiki/Leather',\n",
       " '/wiki/Grey_(horse)',\n",
       " '/wiki/Rosin',\n",
       " '/wiki/Snakewood',\n",
       " '/wiki/Brazilwood',\n",
       " '/wiki/Pernambuco',\n",
       " '/wiki/Carbon_fiber',\n",
       " '/wiki/Itzhak_Perlman',\n",
       " '/wiki/Baroque_music',\n",
       " '/wiki/Freiburger_Barockorchester',\n",
       " '/wiki/Chinrest',\n",
       " '/wiki/Shoulder_rest',\n",
       " '/wiki/Repetitive_strain_injury',\n",
       " '/wiki/Frets',\n",
       " '/wiki/Guitar',\n",
       " '/wiki/Intonation_(music)',\n",
       " '/wiki/Ear_training',\n",
       " '/wiki/Proprioception',\n",
       " '/wiki/Adhesive_tape',\n",
       " '/wiki/Correction_fluid',\n",
       " '/wiki/Stopped_note',\n",
       " '/wiki/Acoustic_resonance',\n",
       " '/wiki/Pythagorean_tuning',\n",
       " '#cite_note-29',\n",
       " '/wiki/String_quartet',\n",
       " '/wiki/String_orchestra',\n",
       " '/wiki/Equal_temperament',\n",
       " '/wiki/Piano',\n",
       " '/wiki/Consonance_and_dissonance#Dissonance',\n",
       " '/wiki/Music_notation',\n",
       " '/wiki/Youth_orchestra',\n",
       " '/wiki/Portamento',\n",
       " '/wiki/Timbre',\n",
       " '/wiki/Hoedown',\n",
       " '/wiki/Traditional_music',\n",
       " '/wiki/Bagpipes',\n",
       " '/wiki/Folk_music',\n",
       " '/wiki/Double_stop',\n",
       " '/wiki/Orchestra',\n",
       " '/wiki/Drone_(music)',\n",
       " '/wiki/Vibrato',\n",
       " '#cite_note-32',\n",
       " '/wiki/Vibrato',\n",
       " '#cite_note-33',\n",
       " '#cite_note-34',\n",
       " '/wiki/Vibrato',\n",
       " '/wiki/Node_(physics)',\n",
       " '/wiki/Harmonic',\n",
       " '/wiki/Artificial_harmonics',\n",
       " '/wiki/Overtone',\n",
       " '/wiki/Node_(physics)',\n",
       " '/wiki/Interval_(music)',\n",
       " '/wiki/Interval_(music)',\n",
       " '/wiki/Interval_(music)',\n",
       " '/wiki/N._Simrock',\n",
       " '/wiki/Vittorio_Monti',\n",
       " '/wiki/Cs%C3%A1rd%C3%A1s_(Monti)',\n",
       " '/wiki/Pyotr_Ilyich_Tchaikovsky',\n",
       " '/wiki/Violin_Concerto',\n",
       " '/wiki/Violin_Concerto_No._1_(Paganini)',\n",
       " '/wiki/Double-stop',\n",
       " '/wiki/Pizzicato',\n",
       " '/wiki/Rhythm',\n",
       " '/wiki/Dynamics_(music)',\n",
       " '/wiki/Articulation_(music)',\n",
       " '/wiki/Timbre',\n",
       " '/wiki/Rosin',\n",
       " '/wiki/Fundamental_frequency',\n",
       " '/wiki/Shinichi_Suzuki_(violinist)',\n",
       " '/wiki/Fritz_Kreisler',\n",
       " '/wiki/Playing_the_violin#Bowing',\n",
       " '/wiki/Coll%C3%A9_(violin)',\n",
       " '/wiki/Sautill%C3%A9_(bow_stroke)',\n",
       " '/wiki/Martel%C3%A9_(bowstroke)',\n",
       " '/wiki/Spiccato',\n",
       " '/wiki/Pizzicato',\n",
       " '/wiki/Col_legno',\n",
       " '/wiki/Italian_language',\n",
       " '/wiki/Hector_Berlioz',\n",
       " '/wiki/Symphonie_Fantastique',\n",
       " '/wiki/Saint-Sa%C3%ABns',\n",
       " '/wiki/Danse_Macabre',\n",
       " '/wiki/The_Planets',\n",
       " '/wiki/Benjamin_Britten',\n",
       " '/wiki/The_Young_Person%27s_Guide_to_the_Orchestra',\n",
       " '/wiki/Percussion',\n",
       " '/wiki/Dmitri_Shostakovich',\n",
       " '/wiki/Tremolo',\n",
       " '/wiki/Mute_(music)',\n",
       " '/wiki/Sordino',\n",
       " '/wiki/Overtone',\n",
       " '/wiki/Mute_violin',\n",
       " '/wiki/Luciano_Berio',\n",
       " '/wiki/Baroque_music',\n",
       " '/wiki/European_classical_music',\n",
       " '/wiki/Orchestra',\n",
       " '/wiki/String_quartet',\n",
       " '/wiki/Viola',\n",
       " '/wiki/Cello',\n",
       " '/wiki/Double_bass',\n",
       " '/wiki/Jazz',\n",
       " '/wiki/Jazz_violin',\n",
       " '/wiki/Joe_Venuti',\n",
       " '/wiki/Eddie_Lang',\n",
       " '/wiki/List_of_jazz_violinists',\n",
       " '/wiki/St%C3%A9phane_Grappelli',\n",
       " '/wiki/Stuff_Smith',\n",
       " '/wiki/Eddie_South',\n",
       " '/wiki/Regina_Carter',\n",
       " '/wiki/Johnny_Frigo',\n",
       " '/wiki/John_Blake,_Jr.',\n",
       " '/wiki/Adam_Taubitz',\n",
       " '/wiki/Leroy_Jenkins_(jazz_musician)',\n",
       " '/wiki/Jean-Luc_Ponty',\n",
       " '/wiki/Darol_Anger',\n",
       " '/wiki/Mark_O%27Connor',\n",
       " '/wiki/Yilian_Ca%C3%B1izares',\n",
       " '#cite_note-NZZ-35',\n",
       " '/wiki/Scordatura',\n",
       " '/wiki/String_section',\n",
       " '/wiki/Swing_music',\n",
       " '/wiki/Big_band',\n",
       " '/wiki/Swing_era',\n",
       " '/wiki/Traditional_pop',\n",
       " '/wiki/Soul_music',\n",
       " '/wiki/Motown',\n",
       " '/wiki/Disco',\n",
       " '/wiki/Love_Unlimited_Orchestra',\n",
       " '/wiki/Biddu',\n",
       " '/wiki/Monster_Orchestra',\n",
       " '/wiki/Salsoul_Orchestra',\n",
       " '/wiki/MFSB',\n",
       " '/wiki/Wikipedia:Citation_needed',\n",
       " '/wiki/Electronic_music',\n",
       " '/wiki/Synthesizer',\n",
       " '/wiki/Rock_music',\n",
       " '/wiki/Progressive_rock',\n",
       " '/wiki/Electric_Light_Orchestra',\n",
       " '/wiki/King_Crimson',\n",
       " '/wiki/Kansas_(band)',\n",
       " '/wiki/Gentle_Giant',\n",
       " 'https://it.wikipedia.org/wiki/Contaminazione_(album)',\n",
       " '/wiki/Il_Rovescio_della_Medaglia',\n",
       " '/wiki/Wikipedia:Citation_needed',\n",
       " '/wiki/Jazz_fusion',\n",
       " '/wiki/The_Corrs',\n",
       " '/wiki/British_folk-rock',\n",
       " '/wiki/Fairport_Convention',\n",
       " '/wiki/Steeleye_Span',\n",
       " '/wiki/Wikipedia:Citation_needed',\n",
       " '/wiki/Crossover_music',\n",
       " '/wiki/Dave_Matthews_Band',\n",
       " '/wiki/Boyd_Tinsley',\n",
       " '/wiki/The_Flock_(band)',\n",
       " '/wiki/Jerry_Goodman',\n",
       " '/wiki/Jazz-rock_fusion',\n",
       " '/wiki/The_Mahavishnu_Orchestra',\n",
       " '/wiki/James_(band)',\n",
       " '/wiki/Saul_Davies',\n",
       " '/wiki/Guitar',\n",
       " '/wiki/No-Man',\n",
       " '/wiki/Wikipedia:Citation_needed',\n",
       " '/wiki/Yellowcard',\n",
       " '/wiki/Los_Salvadores',\n",
       " '/wiki/Wikipedia:Citation_needed',\n",
       " '/wiki/Doom_metal',\n",
       " '/wiki/My_Dying_Bride',\n",
       " '/wiki/Wikipedia:Citation_needed',\n",
       " '/wiki/Folk_metal',\n",
       " '/wiki/M%C3%A4go_de_Oz',\n",
       " '/wiki/Molinos_de_viento_(rock_song)',\n",
       " '/wiki/Wikipedia:Citation_needed',\n",
       " '/wiki/Symphonic_metal',\n",
       " '/wiki/Therion_(band)',\n",
       " '/wiki/Nightwish',\n",
       " '/wiki/Within_Temptation',\n",
       " '/wiki/Haggard_(band)',\n",
       " '/wiki/Epica_(band)',\n",
       " '/wiki/Gothic_Metal',\n",
       " '/wiki/Tristania_(band)',\n",
       " '/wiki/Theater_of_Tragedy',\n",
       " '/wiki/Wikipedia:Citation_needed',\n",
       " '/wiki/Alternative_rock',\n",
       " '/wiki/Hurt_(band)',\n",
       " '/wiki/Wikipedia:Citation_needed',\n",
       " '/wiki/Folk_metal',\n",
       " '/wiki/Ithilien_(band)',\n",
       " '#cite_note-36',\n",
       " '/wiki/Owen_Pallett',\n",
       " '/wiki/The_Shondes',\n",
       " '/wiki/Andrew_Bird',\n",
       " '/wiki/Independent_music',\n",
       " '/wiki/Mainstream',\n",
       " '/wiki/A_Genuine_Freakshow',\n",
       " '/wiki/Sigur_R%C3%B3s',\n",
       " '/wiki/Zox',\n",
       " '/wiki/Broken_Social_Scene',\n",
       " '/wiki/A_Silver_Mt._Zion',\n",
       " '/wiki/Electric_violin',\n",
       " '/wiki/The_Cr%C3%BCxshadows',\n",
       " '/wiki/Wikipedia:Citation_needed',\n",
       " '/wiki/Lindsey_Stirling',\n",
       " '#cite_note-hercampus-37',\n",
       " '/wiki/Wikipedia:Citation_needed',\n",
       " '/wiki/Eric_Stanley_(violinist)',\n",
       " '/wiki/Hip_hop_music',\n",
       " '#cite_note-vh1-38',\n",
       " '#cite_note-39',\n",
       " '/wiki/Indie_rock',\n",
       " '/wiki/Baroque_pop',\n",
       " '/wiki/Arcade_Fire',\n",
       " '/wiki/Wikipedia:Citation_needed',\n",
       " '/wiki/Indian_pop',\n",
       " '/wiki/Pakistani_pop',\n",
       " '/wiki/Turkish_pop_music',\n",
       " '/wiki/Arabic_pop',\n",
       " '/wiki/Solo_(music)',\n",
       " '/wiki/Musical_ensemble',\n",
       " '/wiki/Wikipedia:Citation_needed',\n",
       " '/wiki/Classical_music',\n",
       " '/wiki/Folk_music',\n",
       " '/wiki/Renaissance',\n",
       " '/wiki/Italy',\n",
       " '/wiki/Ethnomusicology',\n",
       " '/wiki/Folk_music',\n",
       " '/wiki/Oral_tradition',\n",
       " '/wiki/Rebab',\n",
       " '/wiki/Old-time_music',\n",
       " '/wiki/Bluegrass_music',\n",
       " '/wiki/Double_stop',\n",
       " '/wiki/Tailpiece',\n",
       " '/wiki/Magnetism',\n",
       " '/wiki/Piezoelectricity',\n",
       " '/wiki/Pickup_(music_technology)',\n",
       " '/wiki/Patch_cable',\n",
       " '/wiki/Instrument_amplifier',\n",
       " '/wiki/PA_system',\n",
       " '/wiki/Electric_violin',\n",
       " '/wiki/George_Beauchamp',\n",
       " '/wiki/Hugo_Benioff',\n",
       " '/wiki/Effect_unit',\n",
       " '/wiki/Electric_guitar',\n",
       " '/wiki/Distortion_(music)',\n",
       " '/wiki/Wah-wah_pedal',\n",
       " '/wiki/Reverb',\n",
       " '/wiki/Cello',\n",
       " '#cite_note-40',\n",
       " '/wiki/Electric_violinist',\n",
       " '/wiki/Provenance',\n",
       " '/wiki/Art_forgery',\n",
       " '/wiki/Fraud']"
      ]
     },
     "execution_count": 102,
     "metadata": {},
     "output_type": "execute_result"
    }
   ],
   "source": [
    "foobar('Violin')"
   ]
  },
  {
   "cell_type": "code",
   "execution_count": 53,
   "metadata": {
    "collapsed": false
   },
   "outputs": [
    {
     "name": "stdout",
     "output_type": "stream",
     "text": [
      "Brain_Drain_(comics)\n"
     ]
    }
   ],
   "source": [
    "# find title of random page\n",
    "page = 'Special:Random'\n",
    "url = 'https://en.wikipedia.org/wiki/%s' %page\n",
    "r = requests.get(url)\n",
    "title_soup = bs(r.text,'lxml')\n",
    "title = title_soup.find('link', rel='canonical')['href'][30:]\n",
    "print title"
   ]
  },
  {
   "cell_type": "code",
   "execution_count": 104,
   "metadata": {
    "collapsed": true
   },
   "outputs": [],
   "source": [
    "# create dictionary!!!!\n",
    "d = {}\n",
    "\n",
    "for i in xrange(10):\n",
    "    page = 'Special:Random'\n",
    "    url = 'https://en.wikipedia.org/wiki/%s' %page\n",
    "    r = requests.get(url)\n",
    "\n",
    "    # find title\n",
    "    title_soup = bs(r.text,'lxml')\n",
    "    title = title_soup.find('link', rel='canonical')['href'][30:]\n",
    "\n",
    "    # find all links\n",
    "    main_div = ss('div', {'id': 'mw-content-text'})\n",
    "    soup = bs(r.text,'lxml', parse_only=main_div)\n",
    "    ps = soup.find_all('p')\n",
    "    links = [a['href'] for p in ps for a in p.find_all('a')]\n",
    "    refs = [link[6:] for link in links if link[:6]=='/wiki/']\n",
    "    good_refs = [ref for ref in refs if ref not in prunes \n",
    "                             and ':' not in ref \n",
    "                             and 'disambiguation' not in ref]\n",
    "    \n",
    "    d[title] = good_refs"
   ]
  },
  {
   "cell_type": "code",
   "execution_count": 105,
   "metadata": {
    "collapsed": false,
    "scrolled": true
   },
   "outputs": [
    {
     "data": {
      "text/plain": [
       "{'Blue_fescue': [],\n",
       " 'Bohumil_Makovsky': ['Music_director',\n",
       "  'Oklahoma_State_University',\n",
       "  'Kappa_Kappa_Psi',\n",
       "  'Fraternities_and_sororities',\n",
       "  'Bohemia',\n",
       "  'Czech_language',\n",
       "  'Clarkson,_Nebraska',\n",
       "  'Oklahoma_City,_Oklahoma',\n",
       "  'Delmar_Gardens',\n",
       "  'University_of_Tulsa'],\n",
       " 'Claude_Mongeau': ['President',\n",
       "  'Chief_Executive_Officer',\n",
       "  'Canadian_National_Railway',\n",
       "  'E._Hunter_Harrison',\n",
       "  'Montreal',\n",
       "  'Quebec',\n",
       "  'Bombardier_Transportation',\n",
       "  'Bell_Canada',\n",
       "  'Bain_%26_Company'],\n",
       " 'Cycling_at_the_2008_Summer_Paralympics_%E2%80%93_Men%27s_individual_pursuit_(B%26VI_1%E2%80%933)': ['2008_Summer_Paralympics',\n",
       "  'Laoshan_Velodrome',\n",
       "  'Kieran_Modra',\n",
       "  'Tyson_Lawrence',\n",
       "  '2004_Summer_Paralympics',\n",
       "  'Robert_Crowe'],\n",
       " 'Ganban%27yoku': ['Spa',\n",
       "  'Thailand',\n",
       "  'Granite',\n",
       "  'Detoxification_(alternative_medicine)',\n",
       "  'Circulatory_system',\n",
       "  'Skin',\n",
       "  'Spa',\n",
       "  'Tokyo_Dome_City'],\n",
       " 'Government_Girls%27_Postgraduate_College,_Rampur': ['Rampur,_Uttar_Pradesh',\n",
       "  'M.J.P._Rohilkhand_University',\n",
       "  'National_Assessment_and_Accreditation_Council',\n",
       "  'University_Grants_Commission_(India)',\n",
       "  'Government_of_India',\n",
       "  'Nawabs_of_Rampur',\n",
       "  'Murtaza_Ali_Khan',\n",
       "  'Raza_Library',\n",
       "  'Geographic_coordinate_system'],\n",
       " 'Jug_Earp': ['American_football',\n",
       "  'Monmouth_College',\n",
       "  'National_Football_League',\n",
       "  'Green_Bay_Packers',\n",
       "  'Green_Bay_Packers_Hall_of_Fame',\n",
       "  'Rock_Island_Independents',\n",
       "  'New_York_Yankees_(NFL)',\n",
       "  'Frankford_Yellow_Jackets'],\n",
       " 'L%C3%A9on_Gaston_Seurat': ['Zoologist',\n",
       "  'Parasitologist',\n",
       "  'French_Polynesia',\n",
       "  'Entomophagous',\n",
       "  'Hymenoptera',\n",
       "  'Paris',\n",
       "  'Tuamotu_Islands',\n",
       "  'Gambier_Islands',\n",
       "  'University_of_Algiers',\n",
       "  'Seurat%27s_spiny_mouse',\n",
       "  'Annelid',\n",
       "  'Charles_Gravier_(zoologist)'],\n",
       " 'Lynn_Fells_Parkway': ['Parkway',\n",
       "  'Greater_Boston',\n",
       "  'Massachusetts',\n",
       "  'United_States',\n",
       "  'Department_of_Conservation_and_Recreation_(Massachusetts)',\n",
       "  'Fellsway_East',\n",
       "  'Stoneham,_Massachusetts',\n",
       "  'Melrose,_Massachusetts',\n",
       "  'Saugus,_Massachusetts',\n",
       "  'U.S._Route_1_in_Massachusetts',\n",
       "  'Middlesex_Fells_Reservation',\n",
       "  'Breakheart_Reservation',\n",
       "  'Olmsted_Brothers',\n",
       "  'Lynn_Woods_Reservation',\n",
       "  'Lynn,_Massachusetts',\n",
       "  'National_Register_of_Historic_Places',\n",
       "  'Metropolitan_Park_System_of_Greater_Boston'],\n",
       " 'Meanings_of_minor_planet_names:_479001%E2%80%93480000': ['Meanings_of_minor_planet_names',\n",
       "  'Minor_planet',\n",
       "  'International_Astronomical_Union',\n",
       "  'Minor_Planet_Center',\n",
       "  'Astronomical_naming_conventions',\n",
       "  'Lutz_D._Schmadel']}"
      ]
     },
     "execution_count": 105,
     "metadata": {},
     "output_type": "execute_result"
    }
   ],
   "source": [
    "d"
   ]
  },
  {
   "cell_type": "code",
   "execution_count": 108,
   "metadata": {
    "collapsed": false
   },
   "outputs": [],
   "source": [
    "G = nx.DiGraph()\n",
    "nodes = d.keys()\n",
    "\n",
    "for key in d.keys():\n",
    "    nodes += d[key]\n",
    "\n",
    "G.add_nodes_from(nodes)"
   ]
  },
  {
   "cell_type": "code",
   "execution_count": 110,
   "metadata": {
    "collapsed": true
   },
   "outputs": [],
   "source": [
    "edges = []\n",
    "\n",
    "for key in d.keys():\n",
    "    children = d[key]\n",
    "    for child in children:\n",
    "        edges.append( (key,child) )\n",
    "\n",
    "G.add_edges_from(edges)"
   ]
  },
  {
   "cell_type": "code",
   "execution_count": 113,
   "metadata": {
    "collapsed": false,
    "scrolled": true
   },
   "outputs": [],
   "source": [
    "pr = nx.pagerank(G,alpha=0.8)"
   ]
  },
  {
   "cell_type": "code",
   "execution_count": 114,
   "metadata": {
    "collapsed": true
   },
   "outputs": [],
   "source": [
    "pr_list = []\n",
    "for key in pr.keys():\n",
    "    data_tuple = (key, pr[key])\n",
    "    pr_list.append(data_tuple)"
   ]
  },
  {
   "cell_type": "code",
   "execution_count": 123,
   "metadata": {
    "collapsed": false,
    "scrolled": true
   },
   "outputs": [
    {
     "data": {
      "text/plain": [
       "[('Tyson_Lawrence', 0.011198926683704365),\n",
       " ('Meanings_of_minor_planet_names', 0.011198926683704365),\n",
       " ('2008_Summer_Paralympics', 0.011198926683704365),\n",
       " ('Laoshan_Velodrome', 0.011198926683704365),\n",
       " ('Kieran_Modra', 0.011198926683704365),\n",
       " ('Minor_planet', 0.011198926683704365),\n",
       " ('Minor_Planet_Center', 0.011198926683704365),\n",
       " ('Robert_Crowe', 0.011198926683704365),\n",
       " ('2004_Summer_Paralympics', 0.011198926683704365),\n",
       " ('Astronomical_naming_conventions', 0.011198926683704365),\n",
       " ('International_Astronomical_Union', 0.011198926683704365),\n",
       " ('Lutz_D._Schmadel', 0.011198926683704365),\n",
       " ('Skin', 0.011010715582746468),\n",
       " ('Spa', 0.011010715582746468),\n",
       " ('Circulatory_system', 0.011010715582746468),\n",
       " ('Detoxification_(alternative_medicine)', 0.011010715582746468),\n",
       " ('Thailand', 0.011010715582746468),\n",
       " ('Granite', 0.011010715582746468),\n",
       " ('Tokyo_Dome_City', 0.011010715582746468),\n",
       " ('American_football', 0.010869557257028045),\n",
       " ('Rock_Island_Independents', 0.010869557257028045),\n",
       " ('Monmouth_College', 0.010869557257028045),\n",
       " ('Frankford_Yellow_Jackets', 0.010869557257028045),\n",
       " ('Green_Bay_Packers', 0.010869557257028045),\n",
       " ('National_Football_League', 0.010869557257028045),\n",
       " ('New_York_Yankees_(NFL)', 0.010869557257028045),\n",
       " ('Green_Bay_Packers_Hall_of_Fame', 0.010869557257028045),\n",
       " ('University_Grants_Commission_(India)', 0.010759767448135938),\n",
       " ('E._Hunter_Harrison', 0.010759767448135938),\n",
       " ('Rampur,_Uttar_Pradesh', 0.010759767448135938),\n",
       " ('Bain_%26_Company', 0.010759767448135938),\n",
       " ('Bombardier_Transportation', 0.010759767448135938),\n",
       " ('Nawabs_of_Rampur', 0.010759767448135938),\n",
       " ('M.J.P._Rohilkhand_University', 0.010759767448135938),\n",
       " ('Murtaza_Ali_Khan', 0.010759767448135938),\n",
       " ('Raza_Library', 0.010759767448135938),\n",
       " ('Government_of_India', 0.010759767448135938),\n",
       " ('Quebec', 0.010759767448135938),\n",
       " ('Canadian_National_Railway', 0.010759767448135938),\n",
       " ('Chief_Executive_Officer', 0.010759767448135938),\n",
       " ('Bell_Canada', 0.010759767448135938),\n",
       " ('Geographic_coordinate_system', 0.010759767448135938),\n",
       " ('Montreal', 0.010759767448135938),\n",
       " ('National_Assessment_and_Accreditation_Council', 0.010759767448135938),\n",
       " ('President', 0.010759767448135938),\n",
       " ('University_of_Tulsa', 0.010671935601022253),\n",
       " ('Oklahoma_City,_Oklahoma', 0.010671935601022253),\n",
       " ('Bohemia', 0.010671935601022253),\n",
       " ('Czech_language', 0.010671935601022253),\n",
       " ('Music_director', 0.010671935601022253),\n",
       " ('Fraternities_and_sororities', 0.010671935601022253),\n",
       " ('Kappa_Kappa_Psi', 0.010671935601022253),\n",
       " ('Oklahoma_State_University', 0.010671935601022253),\n",
       " ('Clarkson,_Nebraska', 0.010671935601022253),\n",
       " ('Delmar_Gardens', 0.010671935601022253),\n",
       " ('Paris', 0.010540187830351724),\n",
       " ('Tuamotu_Islands', 0.010540187830351724),\n",
       " ('Zoologist', 0.010540187830351724),\n",
       " ('Gambier_Islands', 0.010540187830351724),\n",
       " ('Seurat%27s_spiny_mouse', 0.010540187830351724),\n",
       " ('Entomophagous', 0.010540187830351724),\n",
       " ('Annelid', 0.010540187830351724),\n",
       " ('Hymenoptera', 0.010540187830351724),\n",
       " ('Parasitologist', 0.010540187830351724),\n",
       " ('Charles_Gravier_(zoologist)', 0.010540187830351724),\n",
       " ('University_of_Algiers', 0.010540187830351724),\n",
       " ('French_Polynesia', 0.010540187830351724),\n",
       " ('Middlesex_Fells_Reservation', 0.010346441108777419),\n",
       " ('National_Register_of_Historic_Places', 0.010346441108777419),\n",
       " ('Lynn_Woods_Reservation', 0.010346441108777419),\n",
       " ('Department_of_Conservation_and_Recreation_(Massachusetts)',\n",
       "  0.010346441108777419),\n",
       " ('Massachusetts', 0.010346441108777419),\n",
       " ('United_States', 0.010346441108777419),\n",
       " ('Greater_Boston', 0.010346441108777419),\n",
       " ('Breakheart_Reservation', 0.010346441108777419),\n",
       " ('Lynn,_Massachusetts', 0.010346441108777419),\n",
       " ('Fellsway_East', 0.010346441108777419),\n",
       " ('Olmsted_Brothers', 0.010346441108777419),\n",
       " ('Metropolitan_Park_System_of_Greater_Boston', 0.010346441108777419),\n",
       " ('U.S._Route_1_in_Massachusetts', 0.010346441108777419),\n",
       " ('Parkway', 0.010346441108777419),\n",
       " ('Melrose,_Massachusetts', 0.010346441108777419),\n",
       " ('Stoneham,_Massachusetts', 0.010346441108777419),\n",
       " ('Saugus,_Massachusetts', 0.010346441108777419),\n",
       " ('Bohumil_Makovsky', 0.009881448976999085),\n",
       " ('Meanings_of_minor_planet_names:_479001%E2%80%93480000',\n",
       "  0.009881448976999085),\n",
       " ('Government_Girls%27_Postgraduate_College,_Rampur', 0.009881448976999085),\n",
       " ('L%C3%A9on_Gaston_Seurat', 0.009881448976999085),\n",
       " ('Jug_Earp', 0.009881448976999085),\n",
       " ('Ganban%27yoku', 0.009881448976999085),\n",
       " ('Cycling_at_the_2008_Summer_Paralympics_%E2%80%93_Men%27s_individual_pursuit_(B%26VI_1%E2%80%933)',\n",
       "  0.009881448976999085),\n",
       " ('Lynn_Fells_Parkway', 0.009881448976999085),\n",
       " ('Claude_Mongeau', 0.009881448976999085),\n",
       " ('Blue_fescue', 0.009881448976999085)]"
      ]
     },
     "execution_count": 123,
     "metadata": {},
     "output_type": "execute_result"
    }
   ],
   "source": [
    "sorted(pr_list, key=lambda x: x[1], reverse=True)"
   ]
  },
  {
   "cell_type": "code",
   "execution_count": 122,
   "metadata": {
    "collapsed": false,
    "scrolled": true
   },
   "outputs": [
    {
     "data": {
      "text/plain": [
       "['Tyson_Lawrence',\n",
       " 'Meanings_of_minor_planet_names',\n",
       " '2008_Summer_Paralympics',\n",
       " 'Laoshan_Velodrome',\n",
       " 'Kieran_Modra',\n",
       " 'Minor_planet',\n",
       " 'Minor_Planet_Center',\n",
       " 'Robert_Crowe',\n",
       " '2004_Summer_Paralympics',\n",
       " 'Astronomical_naming_conventions',\n",
       " 'International_Astronomical_Union',\n",
       " 'Lutz_D._Schmadel',\n",
       " 'Skin',\n",
       " 'Spa',\n",
       " 'Circulatory_system',\n",
       " 'Detoxification_(alternative_medicine)',\n",
       " 'Thailand',\n",
       " 'Granite',\n",
       " 'Tokyo_Dome_City',\n",
       " 'American_football',\n",
       " 'Rock_Island_Independents',\n",
       " 'Monmouth_College',\n",
       " 'Frankford_Yellow_Jackets',\n",
       " 'Green_Bay_Packers',\n",
       " 'National_Football_League',\n",
       " 'New_York_Yankees_(NFL)',\n",
       " 'Green_Bay_Packers_Hall_of_Fame',\n",
       " 'University_Grants_Commission_(India)',\n",
       " 'E._Hunter_Harrison',\n",
       " 'Rampur,_Uttar_Pradesh',\n",
       " 'Bain_%26_Company',\n",
       " 'Bombardier_Transportation',\n",
       " 'Nawabs_of_Rampur',\n",
       " 'M.J.P._Rohilkhand_University',\n",
       " 'Murtaza_Ali_Khan',\n",
       " 'Raza_Library',\n",
       " 'Government_of_India',\n",
       " 'Quebec',\n",
       " 'Canadian_National_Railway',\n",
       " 'Chief_Executive_Officer',\n",
       " 'Bell_Canada',\n",
       " 'Geographic_coordinate_system',\n",
       " 'Montreal',\n",
       " 'National_Assessment_and_Accreditation_Council',\n",
       " 'President',\n",
       " 'University_of_Tulsa',\n",
       " 'Oklahoma_City,_Oklahoma',\n",
       " 'Bohemia',\n",
       " 'Czech_language',\n",
       " 'Music_director',\n",
       " 'Fraternities_and_sororities',\n",
       " 'Kappa_Kappa_Psi',\n",
       " 'Oklahoma_State_University',\n",
       " 'Clarkson,_Nebraska',\n",
       " 'Delmar_Gardens',\n",
       " 'Paris',\n",
       " 'Tuamotu_Islands',\n",
       " 'Zoologist',\n",
       " 'Gambier_Islands',\n",
       " 'Seurat%27s_spiny_mouse',\n",
       " 'Entomophagous',\n",
       " 'Annelid',\n",
       " 'Hymenoptera',\n",
       " 'Parasitologist',\n",
       " 'Charles_Gravier_(zoologist)',\n",
       " 'University_of_Algiers',\n",
       " 'French_Polynesia',\n",
       " 'Middlesex_Fells_Reservation',\n",
       " 'National_Register_of_Historic_Places',\n",
       " 'Lynn_Woods_Reservation',\n",
       " 'Department_of_Conservation_and_Recreation_(Massachusetts)',\n",
       " 'Massachusetts',\n",
       " 'United_States',\n",
       " 'Greater_Boston',\n",
       " 'Breakheart_Reservation',\n",
       " 'Lynn,_Massachusetts',\n",
       " 'Fellsway_East',\n",
       " 'Olmsted_Brothers',\n",
       " 'Metropolitan_Park_System_of_Greater_Boston',\n",
       " 'U.S._Route_1_in_Massachusetts',\n",
       " 'Parkway',\n",
       " 'Melrose,_Massachusetts',\n",
       " 'Stoneham,_Massachusetts',\n",
       " 'Saugus,_Massachusetts',\n",
       " 'Bohumil_Makovsky',\n",
       " 'Meanings_of_minor_planet_names:_479001%E2%80%93480000',\n",
       " 'Government_Girls%27_Postgraduate_College,_Rampur',\n",
       " 'L%C3%A9on_Gaston_Seurat',\n",
       " 'Jug_Earp',\n",
       " 'Ganban%27yoku',\n",
       " 'Cycling_at_the_2008_Summer_Paralympics_%E2%80%93_Men%27s_individual_pursuit_(B%26VI_1%E2%80%933)',\n",
       " 'Lynn_Fells_Parkway',\n",
       " 'Claude_Mongeau',\n",
       " 'Blue_fescue']"
      ]
     },
     "execution_count": 122,
     "metadata": {},
     "output_type": "execute_result"
    }
   ],
   "source": [
    "# sorted page rank list\n",
    "[x[0] for x in sorted(pr_list, key=lambda x: x[1], reverse=True)]"
   ]
  },
  {
   "cell_type": "code",
   "execution_count": 125,
   "metadata": {
    "collapsed": false
   },
   "outputs": [
    {
     "name": "stdout",
     "output_type": "stream",
     "text": [
      "0\n",
      "2\n"
     ]
    }
   ],
   "source": [
    "# dummy example\n",
    "foo = ['amin', 'cass', 'siddharth']\n",
    "bar = ['cass', 'siddharth', 'amin']\n",
    "\n",
    "print foo.index('amin')\n",
    "print bar.index('amin')"
   ]
  },
  {
   "cell_type": "code",
   "execution_count": 22,
   "metadata": {
    "collapsed": false
   },
   "outputs": [
    {
     "name": "stdout",
     "output_type": "stream",
     "text": [
      "16.79\n"
     ]
    }
   ],
   "source": [
    "count = 0\n",
    "for i in xrange(100):\n",
    "    page = 'Special:Random'\n",
    "    count +=  len(all_links(page))\n",
    "print count/100.0"
   ]
  },
  {
   "cell_type": "code",
   "execution_count": 7,
   "metadata": {
    "collapsed": false
   },
   "outputs": [
    {
     "data": {
      "text/plain": [
       "['Quantity',\n",
       " 'Number',\n",
       " 'Mathematical_structure',\n",
       " 'Space',\n",
       " 'Calculus',\n",
       " 'Definitions_of_mathematics']"
      ]
     },
     "execution_count": 7,
     "metadata": {},
     "output_type": "execute_result"
    }
   ],
   "source": [
    "links('Mathematics')"
   ]
  },
  {
   "cell_type": "code",
   "execution_count": 8,
   "metadata": {
    "collapsed": true
   },
   "outputs": [],
   "source": [
    "# generate a collection of links from random pages\n",
    "pages = []\n",
    "for tick in xrange(10):\n",
    "    page = 'Special:Random'\n",
    "    pages += links(page)"
   ]
  },
  {
   "cell_type": "code",
   "execution_count": 20,
   "metadata": {
    "collapsed": false
   },
   "outputs": [
    {
     "data": {
      "text/html": [
       "<div>\n",
       "<table border=\"1\" class=\"dataframe\">\n",
       "  <thead>\n",
       "    <tr style=\"text-align: right;\">\n",
       "      <th></th>\n",
       "      <th>a</th>\n",
       "      <th>b</th>\n",
       "      <th>c</th>\n",
       "    </tr>\n",
       "  </thead>\n",
       "  <tbody>\n",
       "    <tr>\n",
       "      <th>0</th>\n",
       "      <td>1</td>\n",
       "      <td>2</td>\n",
       "      <td>3</td>\n",
       "    </tr>\n",
       "    <tr>\n",
       "      <th>1</th>\n",
       "      <td>4</td>\n",
       "      <td>5</td>\n",
       "      <td>6</td>\n",
       "    </tr>\n",
       "  </tbody>\n",
       "</table>\n",
       "</div>"
      ],
      "text/plain": [
       "   a  b  c\n",
       "0  1  2  3\n",
       "1  4  5  6"
      ]
     },
     "execution_count": 20,
     "metadata": {},
     "output_type": "execute_result"
    }
   ],
   "source": [
    "df = pd.DataFrame(data=[[1,2,3],[4,5,6]], columns=['a','b','c'])\n",
    "df"
   ]
  },
  {
   "cell_type": "code",
   "execution_count": 25,
   "metadata": {
    "collapsed": false
   },
   "outputs": [
    {
     "data": {
      "text/plain": [
       "<pandas.core.indexing._iLocIndexer at 0x117384a10>"
      ]
     },
     "execution_count": 25,
     "metadata": {},
     "output_type": "execute_result"
    }
   ],
   "source": [
    "df.iloc(2)"
   ]
  },
  {
   "cell_type": "code",
   "execution_count": 96,
   "metadata": {
    "collapsed": false
   },
   "outputs": [
    {
     "data": {
      "text/plain": [
       "['Burlington,_Vermont',\n",
       " 'National_Register_of_Historic_Places',\n",
       " 'Church_Street_Marketplace']"
      ]
     },
     "execution_count": 96,
     "metadata": {},
     "output_type": "execute_result"
    }
   ],
   "source": [
    "all_links('Special:Random')"
   ]
  },
  {
   "cell_type": "markdown",
   "metadata": {},
   "source": [
    "# Random walks on wiki-graph"
   ]
  },
  {
   "cell_type": "code",
   "execution_count": 91,
   "metadata": {
    "collapsed": false
   },
   "outputs": [],
   "source": [
    "# random walk on wikipedia\n",
    "random_walks = []\n",
    "for tick in xrange(20):\n",
    "    page = 'Special:Random'\n",
    "    L = links(page)\n",
    "    seen = []\n",
    "    while len(L) > 0 and page not in seen:\n",
    "        seen.append(page)\n",
    "        r = np.random.randint(0,len(L))\n",
    "        page = L[r]\n",
    "        L = links(page)\n",
    "    seen.append(page)\n",
    "    if len(L) > 0 and len(seen)>1:\n",
    "        random_walks.append(seen[1:])"
   ]
  },
  {
   "cell_type": "code",
   "execution_count": 78,
   "metadata": {
    "collapsed": false
   },
   "outputs": [
    {
     "data": {
      "text/plain": [
       "[8, 17, 6, 9, 17, 24, 8, 16, 3]"
      ]
     },
     "execution_count": 78,
     "metadata": {},
     "output_type": "execute_result"
    }
   ],
   "source": [
    "[len(x) for x in random_walks]"
   ]
  },
  {
   "cell_type": "code",
   "execution_count": 94,
   "metadata": {
    "collapsed": false
   },
   "outputs": [],
   "source": [
    "rws += random_walks"
   ]
  },
  {
   "cell_type": "code",
   "execution_count": 58,
   "metadata": {
    "collapsed": false
   },
   "outputs": [],
   "source": [
    "def loop_len(rw):\n",
    "    '''\n",
    "    Given a random walk, returns the length of the loop that closed it\n",
    "    '''\n",
    "    repeat = rw[-1]\n",
    "    index = rw.index(repeat)\n",
    "    return len(rw)-index"
   ]
  },
  {
   "cell_type": "code",
   "execution_count": 100,
   "metadata": {
    "collapsed": false
   },
   "outputs": [
    {
     "name": "stdout",
     "output_type": "stream",
     "text": [
      "[(8, 17), (8, 12), (7, 20), (6, 10), (6, 22), (6, 9), (6, 10), (5, 22), (4, 9), (4, 29), (4, 13), (4, 8), (3, 7), (3, 12), (3, 18), (3, 49), (3, 7), (3, 3), (3, 33), (3, 5), (3, 20), (3, 8), (3, 17), (3, 6), (3, 24), (3, 8), (3, 16), (3, 3), (3, 3), (3, 60), (3, 8), (3, 14), (3, 30), (3, 15), (3, 12)]\n"
     ]
    }
   ],
   "source": [
    "print sorted([(loop_len(x), len(x)) for x in rws], key=lambda x: x[0], reverse=True)"
   ]
  },
  {
   "cell_type": "markdown",
   "metadata": {},
   "source": [
    "### Random walk graph"
   ]
  },
  {
   "cell_type": "code",
   "execution_count": 96,
   "metadata": {
    "collapsed": false
   },
   "outputs": [],
   "source": [
    "G_rw = nx.DiGraph()\n",
    "for rw in rws:\n",
    "    for s, t in zip(rw, rw[1:]):\n",
    "        if (s,t) not in G_rw.edges():\n",
    "            G_rw.add_edge(s, t, weight=0)\n",
    "        G_rw[s][t]['weight'] += 1\n",
    "    s = rw[-1]\n",
    "    t = rw[0]\n",
    "    if (s,t) not in G_rw.edges():\n",
    "        G_rw.add_edge(s,t, weight=0)\n",
    "    G_rw[s][t]['weight'] += 1"
   ]
  },
  {
   "cell_type": "code",
   "execution_count": 97,
   "metadata": {
    "collapsed": false
   },
   "outputs": [
    {
     "data": {
      "text/plain": [
       "531"
      ]
     },
     "execution_count": 97,
     "metadata": {},
     "output_type": "execute_result"
    }
   ],
   "source": [
    "len(G_rw.edges())"
   ]
  },
  {
   "cell_type": "code",
   "execution_count": 98,
   "metadata": {
    "collapsed": true
   },
   "outputs": [],
   "source": [
    "# save the graph\n",
    "nx.write_graphml(G_rw, 'random_walk.graphml')"
   ]
  },
  {
   "cell_type": "markdown",
   "metadata": {},
   "source": [
    "# First link graph"
   ]
  },
  {
   "cell_type": "code",
   "execution_count": 164,
   "metadata": {
    "collapsed": false,
    "scrolled": true
   },
   "outputs": [],
   "source": [
    "for tick in xrange(2):\n",
    "    path = []\n",
    "    page = 'Special:Random'\n",
    "    count = 0\n",
    "    while page not in loop and count < 1000:\n",
    "        L = links(page)\n",
    "        if len(L)>0:\n",
    "            page = L[0]\n",
    "            path.append(page)\n",
    "            count += 1\n",
    "            if count > 20:\n",
    "                print page\n",
    "        else:\n",
    "            path = []\n",
    "            page = 'Special:Random'\n",
    "            count = 0\n",
    "    paths.append(path)"
   ]
  },
  {
   "cell_type": "code",
   "execution_count": 165,
   "metadata": {
    "collapsed": false
   },
   "outputs": [
    {
     "name": "stdout",
     "output_type": "stream",
     "text": [
      "[8, 9, 5, 5, 7, 9, 6, 11, 14, 7, 5, 11, 6, 9, 18, 13, 9, 9, 4, 8, 17, 13, 6, 14, 6, 12, 11, 6, 16, 12, 11, 7, 6, 14, 7, 12, 11, 17, 15]\n"
     ]
    }
   ],
   "source": [
    "print [len(path) for path in paths]"
   ]
  },
  {
   "cell_type": "markdown",
   "metadata": {},
   "source": [
    "Longest paths to date:\n",
    "- Cavalry has length 18  \n",
    "- Professional_baseball has length 16"
   ]
  },
  {
   "cell_type": "markdown",
   "metadata": {},
   "source": [
    "## Three node counter example"
   ]
  },
  {
   "cell_type": "code",
   "execution_count": 80,
   "metadata": {
    "collapsed": true
   },
   "outputs": [],
   "source": [
    "G = nx.DiGraph()"
   ]
  },
  {
   "cell_type": "code",
   "execution_count": 82,
   "metadata": {
    "collapsed": true
   },
   "outputs": [],
   "source": [
    "nodes = [1,2,3]\n",
    "G.add_nodes_from(nodes)"
   ]
  },
  {
   "cell_type": "code",
   "execution_count": 83,
   "metadata": {
    "collapsed": true
   },
   "outputs": [],
   "source": [
    "edges = [(1,2),(1,3),(2,1)]\n",
    "G.add_edges_from(edges)"
   ]
  },
  {
   "cell_type": "code",
   "execution_count": 88,
   "metadata": {
    "collapsed": true
   },
   "outputs": [],
   "source": [
    "G[1][3]['weight'] = 5"
   ]
  },
  {
   "cell_type": "code",
   "execution_count": 92,
   "metadata": {
    "collapsed": false
   },
   "outputs": [
    {
     "data": {
      "text/plain": [
       "{1: 0.35325071354186066, 2: 0.20680209157046414, 3: 0.43994719488767464}"
      ]
     },
     "execution_count": 92,
     "metadata": {},
     "output_type": "execute_result"
    }
   ],
   "source": [
    "nx.pagerank(G,alpha=0.99)"
   ]
  },
  {
   "cell_type": "markdown",
   "metadata": {},
   "source": [
    "# Building the graph"
   ]
  },
  {
   "cell_type": "code",
   "execution_count": 202,
   "metadata": {
    "collapsed": false
   },
   "outputs": [],
   "source": [
    "G = nx.DiGraph()\n",
    "\n",
    "# add the loop\n",
    "for s, t in zip(loop, loop[1:]):\n",
    "    if (s,t) not in G.edges():\n",
    "        G.add_edge(s,t)\n",
    "    G.add_edge(loop[-1],loop[0])\n",
    "\n",
    "# add the rest of the data\n",
    "for path in paths:\n",
    "    for s, t in zip(path, path[1:]):\n",
    "        if (s,t) not in G.edges():\n",
    "            G.add_edge(s,t)"
   ]
  },
  {
   "cell_type": "code",
   "execution_count": 203,
   "metadata": {
    "collapsed": true
   },
   "outputs": [],
   "source": [
    "nx.write_graphml(G, 'wiki_graph.graphml')"
   ]
  },
  {
   "cell_type": "code",
   "execution_count": 204,
   "metadata": {
    "collapsed": false
   },
   "outputs": [],
   "source": [
    "pr = nx.pagerank(G)"
   ]
  },
  {
   "cell_type": "code",
   "execution_count": 207,
   "metadata": {
    "collapsed": true
   },
   "outputs": [],
   "source": [
    "ranks = sorted([(page, pr[page]) for page in pr.keys()], key=lambda x:x[1], reverse=True)"
   ]
  },
  {
   "cell_type": "code",
   "execution_count": 208,
   "metadata": {
    "collapsed": false
   },
   "outputs": [
    {
     "data": {
      "text/plain": [
       "[('Knowledge', 0.0757529652755453),\n",
       " ('Awareness', 0.06523532268274902),\n",
       " ('Philosophy', 0.06114870545410897),\n",
       " ('Quality_(philosophy)', 0.05630535474794927),\n",
       " ('Education', 0.05456416348648078),\n",
       " ('Learning', 0.04717971395119743),\n",
       " ('Science', 0.036629327326936384),\n",
       " ('Natural_science', 0.017118819106942407),\n",
       " ('Quantity', 0.01635446461758999),\n",
       " ('Europe', 0.016114062625987365),\n",
       " ('Property_(philosophy)', 0.014716512316255839),\n",
       " ('Continent', 0.01451217062339361),\n",
       " ('Mathematics', 0.014327611482862924),\n",
       " ('Landmass', 0.013150562421188915),\n",
       " ('Earth', 0.011993195449314927),\n",
       " ('Geography', 0.011955810614303949),\n",
       " ('Geopolitics', 0.011009433523222034),\n",
       " ('Biology', 0.01062801921189196),\n",
       " ('British_English', 0.009851308291259768),\n",
       " ('United_Kingdom', 0.00918882943887515),\n",
       " ('Communication', 0.007449889384977922),\n",
       " ('Meaning_(semiotics)', 0.007147623368535581),\n",
       " ('Semiotics', 0.006890697254559592),\n",
       " ('Sport', 0.0066768393342391315),\n",
       " ('Ferdinand_de_Saussure', 0.00667231005768),\n",
       " ('Linguistics', 0.006572936321517812),\n",
       " ('Linguist', 0.006486680940332348),\n",
       " ('Country', 0.006321103940217393),\n",
       " ('Political_geography', 0.006188155740489131),\n",
       " ('Politics', 0.006075149770720111),\n",
       " ('Turkish_language', 0.005979094696416441),\n",
       " ('Physics', 0.00595489656929348),\n",
       " ('Greece', 0.005897447883258324),\n",
       " ('Psychology', 0.005593180281929349),\n",
       " ('Behavior', 0.005569420630944295),\n",
       " ('Organism', 0.005549224927606998),\n",
       " ('Language', 0.005207704343580163),\n",
       " ('Classical_language', 0.005167631708559783),\n",
       " ('Geometry', 0.004950825407608696),\n",
       " ('Coordinate_system', 0.004865421195652175),\n",
       " ('Geographic_coordinate_system', 0.004764945652173913),\n",
       " ('Discipline_(academia)', 0.004364813019887377),\n",
       " ('Extinct', 0.004364813019887377),\n",
       " ('Human', 0.004175994857156505),\n",
       " ('Set_(mathematics)', 0.004175994857156505),\n",
       " ('Referring_expression', 0.004175994857156505),\n",
       " ('Social_science', 0.004175994857156505),\n",
       " ('Continuous_signal', 0.003953855842179009),\n",
       " ('Anthropology', 0.003953855842179009),\n",
       " ('Social_group', 0.003953855842179009),\n",
       " ('Question', 0.003953855842179009),\n",
       " ('Data', 0.003953855842179009),\n",
       " ('Comparison_of_American_and_British_English', 0.003953855842179009),\n",
       " ('Administrative_division', 0.003879721467391305),\n",
       " ('Analog_signal', 0.0036925158245584245),\n",
       " ('American_and_British_English_spelling_differences#-ise.2C_-ize_.28-isation.2C_-ization.29',\n",
       "  0.0036925158245584245),\n",
       " ('Magnetic_recording', 0.0036925158245584245),\n",
       " ('Information', 0.0036925158245584245),\n",
       " ('Society', 0.0036925158245584245),\n",
       " ('Anthropologist', 0.0036925158245584245),\n",
       " ('Romanization', 0.0033850569802989137),\n",
       " ('Computing', 0.0033850569802989137),\n",
       " ('Sociolinguistics', 0.0033850569802989137),\n",
       " ('Edward_Burnett_Tylor', 0.0033850569802989137),\n",
       " ('Engineering', 0.0033850569802989137),\n",
       " ('Transmission_(telecommunications)', 0.0033850569802989137),\n",
       " ('Magnetic_tape', 0.0033850569802989137),\n",
       " ('Content_(media)', 0.0033850569802989137),\n",
       " ('Language_variety', 0.003023340692934783),\n",
       " ('Computer_programming', 0.003023340692934783),\n",
       " ('Latin_language', 0.003023340692934783),\n",
       " ('Nonfiction', 0.003023340692934783),\n",
       " ('Culture', 0.003023340692934783),\n",
       " ('Action_(physics)', 0.003023340692934783),\n",
       " ('Play_(activity)', 0.003023340692934783),\n",
       " ('Telecommunication', 0.003023340692934783),\n",
       " ('Pinyin', 0.003023340692934783),\n",
       " ('Electrical_engineering', 0.003023340692934783),\n",
       " ('Classical_physics', 0.003023340692934783),\n",
       " ('Videotape#Quad', 0.003023340692934783),\n",
       " ('Armed_forces', 0.0025977921195652178),\n",
       " ('Han_Chinese', 0.0025977921195652178),\n",
       " ('Outline_of_physical_science', 0.0025977921195652178),\n",
       " ('Media_(communication)', 0.0025977921195652178),\n",
       " ('Decision_making', 0.0025977921195652178),\n",
       " ('Game', 0.0025977921195652178),\n",
       " ('Design_engineer', 0.0025977921195652178),\n",
       " ('Interaction', 0.0025977921195652178),\n",
       " ('Broadcast_quality', 0.0025977921195652178),\n",
       " ('Mass_noun', 0.0025977921195652178),\n",
       " ('Narrative', 0.0025977921195652178),\n",
       " ('Computer', 0.0025977921195652178),\n",
       " ('Vocation', 0.0025977921195652178),\n",
       " ('American_English', 0.0025977921195652178),\n",
       " ('Golf', 0.0025977921195652178),\n",
       " ('Cultural_system', 0.0025977921195652178),\n",
       " ('Television', 0.0025977921195652178),\n",
       " ('Matter', 0.0025977921195652178),\n",
       " ('United_States', 0.0022010869565217395),\n",
       " ('Team_sport', 0.0022010869565217395),\n",
       " ('Internet', 0.002097146739130435),\n",
       " ('International_Standard_Classification_of_Education', 0.002097146739130435),\n",
       " ('Officer_(armed_forces)', 0.002097146739130435),\n",
       " ('Metropolitan_county', 0.002097146739130435),\n",
       " ('Bat-and-ball_games', 0.002097146739130435),\n",
       " ('Chemical_substance', 0.002097146739130435),\n",
       " ('Profession', 0.002097146739130435),\n",
       " ('System', 0.002097146739130435),\n",
       " ('Mass_media', 0.002097146739130435),\n",
       " ('Latin', 0.002097146739130435),\n",
       " ('Contact_sport', 0.002097146739130435),\n",
       " ('Amateur_television', 0.002097146739130435),\n",
       " ('Religion', 0.002097146739130435),\n",
       " ('Scotland', 0.002097146739130435),\n",
       " ('Racket_sport', 0.002097146739130435),\n",
       " ('CPU_design', 0.002097146739130435),\n",
       " ('Television_in_the_United_States', 0.002097146739130435),\n",
       " ('Geographical_place', 0.002097146739130435),\n",
       " ('Kazakhstan', 0.002097146739130435),\n",
       " ('Chemistry', 0.002097146739130435),\n",
       " ('Chinese_place_names', 0.002097146739130435),\n",
       " ('Data_(computing)', 0.002097146739130435),\n",
       " ('Traditional_story', 0.002097146739130435),\n",
       " ('Election', 0.002097146739130435),\n",
       " ('Endonym', 0.0015081521739130437),\n",
       " ('Myths', 0.0015081521739130437),\n",
       " ('Postal_Map_Romanization', 0.0015081521739130437),\n",
       " ('Basic_education', 0.0015081521739130437),\n",
       " ('CBS_Corporation', 0.0015081521739130437),\n",
       " ('Television_station', 0.0015081521739130437),\n",
       " ('Reduced_instruction_set_computing', 0.0015081521739130437),\n",
       " ('.in', 0.0015081521739130437),\n",
       " ('West_Yorkshire', 0.0015081521739130437),\n",
       " ('Electoral_district', 0.0015081521739130437),\n",
       " ('Water', 0.0015081521739130437),\n",
       " ('Canton_(subnational_entity)', 0.0015081521739130437),\n",
       " ('Scottish_people', 0.0015081521739130437),\n",
       " ('Combat_sport', 0.0015081521739130437),\n",
       " ('Buddhism', 0.0015081521739130437),\n",
       " ('Chemical_compound', 0.0015081521739130437),\n",
       " ('Czech_language', 0.0015081521739130437),\n",
       " ('Baseball', 0.0015081521739130437),\n",
       " ('Academy_of_Television_Arts_%26_Sciences', 0.0015081521739130437),\n",
       " ('Professional', 0.0015081521739130437),\n",
       " ('Tennis', 0.0015081521739130437),\n",
       " ('Database', 0.0015081521739130437),\n",
       " ('Law', 0.0015081521739130437),\n",
       " ('Kazakh_language', 0.0015081521739130437),\n",
       " ('Enlisted_rank', 0.0015081521739130437),\n",
       " ('Historic_district_(United_States)', 0.0008152173913043479),\n",
       " ('Secondary_school', 0.0008152173913043479),\n",
       " ('Mixed_martial_arts', 0.0008152173913043479),\n",
       " ('Nanking', 0.0008152173913043479),\n",
       " ('Physician', 0.0008152173913043479),\n",
       " ('Wakefield', 0.0008152173913043479),\n",
       " ('Pakistan', 0.0008152173913043479),\n",
       " ('England', 0.0008152173913043479),\n",
       " ('India', 0.0008152173913043479),\n",
       " ('Primetime_Emmy_Award', 0.0008152173913043479),\n",
       " ('Species', 0.0008152173913043479),\n",
       " ('WKAQ-TV', 0.0008152173913043479),\n",
       " ('Dign%C4%81ga', 0.0008152173913043479),\n",
       " ('Soldier', 0.0008152173913043479),\n",
       " ('Simon_%26_Schuster', 0.0008152173913043479),\n",
       " ('Cantons_of_Luxembourg', 0.0008152173913043479),\n",
       " ('Billie_Jean_King_Cup', 0.0008152173913043479),\n",
       " ('The_Sensational_Alex_Harvey_Band', 0.0008152173913043479),\n",
       " ('Taldykorgan', 0.0008152173913043479),\n",
       " ('Relational_databases', 0.0008152173913043479),\n",
       " ('Czech_(people)', 0.0008152173913043479),\n",
       " ('Unincorporated_community', 0.0008152173913043479),\n",
       " ('Australia', 0.0008152173913043479),\n",
       " ('Intergeneric_hybrid', 0.0008152173913043479),\n",
       " ('SPARC', 0.0008152173913043479),\n",
       " ('Organic_compound', 0.0008152173913043479),\n",
       " ('Association_football', 0.0008152173913043479),\n",
       " ('Mythology', 0.0008152173913043479),\n",
       " ('Brooklyn,_New_York', 0.0008152173913043479),\n",
       " ('Soccer', 0.0008152173913043479),\n",
       " ('Member_of_the_Legislative_Assembly_(India)', 0.0008152173913043479),\n",
       " ('Baseball_league', 0.0008152173913043479),\n",
       " ('Persian_language', 0.0008152173913043479),\n",
       " ('Mattel', 0.0008152173913043479),\n",
       " ('Freshwater', 0.0008152173913043479)]"
      ]
     },
     "execution_count": 208,
     "metadata": {},
     "output_type": "execute_result"
    }
   ],
   "source": [
    "ranks"
   ]
  }
 ],
 "metadata": {
  "anaconda-cloud": {},
  "kernelspec": {
   "display_name": "Python 2",
   "language": "python",
   "name": "python2"
  },
  "language_info": {
   "codemirror_mode": {
    "name": "ipython",
    "version": 2
   },
   "file_extension": ".py",
   "mimetype": "text/x-python",
   "name": "python",
   "nbconvert_exporter": "python",
   "pygments_lexer": "ipython2",
   "version": "2.7.13"
  }
 },
 "nbformat": 4,
 "nbformat_minor": 1
}
