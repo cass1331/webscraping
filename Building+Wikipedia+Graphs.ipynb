{
 "cells": [
  {
   "cell_type": "code",
   "execution_count": 679,
   "metadata": {
    "collapsed": true
   },
   "outputs": [],
   "source": [
    "import requests, time\n",
    "from bs4 import BeautifulSoup as bs, SoupStrainer as ss \n",
    "import pandas as pd, numpy as np\n",
    "import networkx as nx\n",
    "import matplotlib.pyplot as plt\n",
    "%matplotlib inline"
   ]
  },
  {
   "cell_type": "code",
   "execution_count": 680,
   "metadata": {
    "collapsed": true
   },
   "outputs": [],
   "source": [
    "prunes = ['Ancient_Greek','International_Phonetic_Alphabet','Greek_language','Help:IPA_for_Greek']\n",
    "plumbs = ['Help:', 'Talk:']\n",
    "loop = ['Philosophy','Education','Learning','Knowledge','Awareness','Quality_(philosophy)']\n",
    "loopies = ['Lyndon_LaRouche','LaRouche_movement', 'World_War_II','Allies_of_World_War_II','Declaration_by_United_Nations'] "
   ]
  },
  {
   "cell_type": "markdown",
   "metadata": {},
   "source": [
    "# Set-up"
   ]
  },
  {
   "cell_type": "code",
   "execution_count": 681,
   "metadata": {
    "collapsed": false
   },
   "outputs": [],
   "source": [
    "def all_links(page):\n",
    "    '''\n",
    "    Given a page, return a list of all the hrefs appearing\n",
    "    on the page \n",
    "    \n",
    "    Returns: list(str):  \n",
    "    '''\n",
    "    \n",
    "    url = 'https://en.wikipedia.org/wiki/%s' %page\n",
    "    r = requests.get(url)\n",
    "    main_div = ss('div', {'id': 'mw-content-text'})\n",
    "    soup = bs(r.text,'lxml', parse_only=main_div)\n",
    "    \n",
    "    ps = soup.find_all('p')\n",
    "    links = [a['href'] for p in ps for a in p.find_all('a')]\n",
    "    refs = [link[6:] for link in links if link[:6]=='/wiki/']\n",
    "    good_refs = [ref for ref in refs if ref not in prunes \n",
    "                             and ':' not in ref \n",
    "                             and 'disambiguation' not in ref]\n",
    "    return good_refs"
   ]
  },
  {
   "cell_type": "markdown",
   "metadata": {},
   "source": [
    "# Equals method"
   ]
  },
  {
   "cell_type": "code",
   "execution_count": 682,
   "metadata": {
    "collapsed": true
   },
   "outputs": [],
   "source": [
    "def equals(list_one, list_two):\n",
    "    ''' Compares two lists based on the default equality of their indexes, given their lengths are equal'''\n",
    "    equals = True \n",
    "    for i in range(0, len(list_one)):\n",
    "        if (cmp(list_one[i], list_two[i]) == 0):\n",
    "            equals = True\n",
    "        else:\n",
    "            equals = False\n",
    "    return equals"
   ]
  },
  {
   "cell_type": "markdown",
   "metadata": {},
   "source": [
    "# Create the dictionary"
   ]
  },
  {
   "cell_type": "code",
   "execution_count": 683,
   "metadata": {
    "collapsed": false
   },
   "outputs": [],
   "source": [
    "#n_iterations = 3\n",
    "\n",
    "# create dictionary!!!!\n",
    "#d = {}\n",
    "\n",
    "#for i in xrange(n_iterations):\n",
    "    #page = 'Special:Random'\n",
    "    #url = 'https://en.wikipedia.org/wiki/%s' %page\n",
    "    #r = requests.get(url)\n",
    "\n",
    "    # find title\n",
    "    #title_soup = bs(r.text,'lxml')\n",
    "    #title = title_soup.find('link', rel='canonical')['href'][30:]\n",
    "\n",
    "    # find all links\n",
    "    #main_div = ss('div', {'id': 'mw-content-text'})\n",
    "    #soup = bs(r.text,'lxml', parse_only=main_div)\n",
    "    #ps = soup.find_all('p')\n",
    "    #links = [a['href'] for p in ps for a in p.find_all('a')]\n",
    "    #refs = [link[6:] for link in links if link[:6]=='/wiki/']\n",
    "    #good_refs = [ref for ref in refs if ref not in prunes \n",
    "                             #and ':' not in ref \n",
    "                             #and 'disambiguation' not in ref]\n",
    "    \n",
    "    #d[title] = good_refs"
   ]
  },
  {
   "cell_type": "code",
   "execution_count": 684,
   "metadata": {
    "collapsed": true
   },
   "outputs": [],
   "source": [
    "data = []"
   ]
  },
  {
   "cell_type": "code",
   "execution_count": 686,
   "metadata": {
    "collapsed": false
   },
   "outputs": [],
   "source": [
    "# create dictionary!!!!\n",
    "d = {}\n",
    "\n",
    "page = 'Special:Random'\n",
    "url = 'https://en.wikipedia.org/wiki/%s' %page\n",
    "r = requests.get(url)\n",
    "\n",
    "# find title\n",
    "title_soup = bs(r.text,'lxml')\n",
    "title_main = title_soup.find('link', rel='canonical')['href'][30:]\n",
    "title_main\n",
    "\n",
    "# find all links\n",
    "main_div = ss('div', {'id': 'mw-content-text'})\n",
    "soup = bs(r.text,'lxml', parse_only=main_div)\n",
    "ps = soup.find_all('p')\n",
    "links = [a['href'] for p in ps for a in p.find_all('a')]\n",
    "refs = [link[6:] for link in links if link[:6]=='/wiki/']\n",
    "parents = [ref for ref in refs if ref not in prunes \n",
    "                         and ':' not in ref \n",
    "                         and 'disambiguation' not in ref]\n",
    "\n",
    "for parent in parents:\n",
    "\n",
    "    url = 'https://en.wikipedia.org/wiki/%s' %parent\n",
    "    r = requests.get(url)\n",
    "\n",
    "    # find title\n",
    "    title_soup = bs(r.text,'lxml')\n",
    "    title = title_soup.find('link', rel='canonical')['href'][30:]\n",
    "\n",
    "    # find all links\n",
    "    main_div = ss('div', {'id': 'mw-content-text'})\n",
    "    soup = bs(r.text,'lxml', parse_only=main_div)\n",
    "    ps = soup.find_all('p')\n",
    "    links = [a['href'] for p in ps for a in p.find_all('a')]\n",
    "    refs = [link[6:] for link in links if link[:6]=='/wiki/']\n",
    "    good_refs = [ref for ref in refs if ref not in prunes \n",
    "                             and ':' not in ref \n",
    "                             and 'disambiguation' not in ref]\n",
    "\n",
    "    d[title] = good_refs"
   ]
  },
  {
   "cell_type": "code",
   "execution_count": 687,
   "metadata": {
    "collapsed": false
   },
   "outputs": [
    {
     "name": "stdout",
     "output_type": "stream",
     "text": [
      "Mocha_Island\n"
     ]
    }
   ],
   "source": [
    "print title_main"
   ]
  },
  {
   "cell_type": "code",
   "execution_count": 688,
   "metadata": {
    "collapsed": false
   },
   "outputs": [],
   "source": [
    "data.append( (title_main,d) )"
   ]
  },
  {
   "cell_type": "markdown",
   "metadata": {},
   "source": [
    "# Create the graph"
   ]
  },
  {
   "cell_type": "code",
   "execution_count": 689,
   "metadata": {
    "collapsed": false
   },
   "outputs": [],
   "source": [
    "def make_a_graph(some_dictionary):   \n",
    "    G = nx.DiGraph()\n",
    "    node_s = some_dictionary.keys()\n",
    "\n",
    "    for key in some_dictionary.keys():\n",
    "        node_s += some_dictionary[key]\n",
    "\n",
    "    G.add_nodes_from(node_s)\n",
    "    edges = []\n",
    "\n",
    "    for key in some_dictionary.keys():\n",
    "        children = some_dictionary[key]\n",
    "        for child in children:\n",
    "            edges.append( (key,child) )\n",
    "\n",
    "    G.add_edges_from(edges)\n",
    "    pr = nx.pagerank(G,alpha=0.8)\n",
    "    pr_list = []\n",
    "    for key in pr.keys():\n",
    "        data_tuple = (key, pr[key])\n",
    "        pr_list.append(data_tuple)\n",
    "    return G"
   ]
  },
  {
   "cell_type": "markdown",
   "metadata": {},
   "source": [
    "# Gets list of website names"
   ]
  },
  {
   "cell_type": "code",
   "execution_count": 690,
   "metadata": {
    "collapsed": false
   },
   "outputs": [],
   "source": [
    "def make_a_list(some_graph,some_alpha):\n",
    "    pr = nx.pagerank(some_graph,alpha=some_alpha)\n",
    "    pr_list = []\n",
    "    for key in pr.keys():\n",
    "        data_tuple = (key, pr[key])\n",
    "        pr_list.append(data_tuple)\n",
    "        \n",
    "    websites = sorted(pr_list, key=lambda x: x[1], reverse=True)\n",
    "    names = [x[0] for x in websites]  \n",
    "    return names"
   ]
  },
  {
   "cell_type": "markdown",
   "metadata": {},
   "source": [
    "# Mean squared error as method of determing difference"
   ]
  },
  {
   "cell_type": "code",
   "execution_count": 691,
   "metadata": {
    "collapsed": false
   },
   "outputs": [],
   "source": [
    "def mean_squared_error(some_graph, alpha_1, alpha_2):\n",
    "    '''square root of mean squared error'''\n",
    "    '''Graph, two different alphas,'''\n",
    "    '''list_one = nx.pagerank(G, ALPHA1)\n",
    "       list_two = nx.pagerank(G, ALPHA2)\n",
    "       dictionary -> sorted list\n",
    "       iterate through each node, compute diff(index1, index2)\n",
    "       compute mean squared error'''\n",
    "    list_one = make_a_list(some_graph,alpha_1)\n",
    "    list_two = make_a_list(some_graph,alpha_2)\n",
    "    sumN = 0\n",
    "    list_diff = []\n",
    "    list_1 = []\n",
    "    list_2 = []\n",
    "    equal = True\n",
    "    for node in some_graph.nodes_iter():\n",
    "        list_diff.append(list_one.index(node) - list_two.index(node))\n",
    "    for el in range(0, len(list_diff)):\n",
    "        sumN += list_diff[el] ** 2\n",
    "    return (np.sqrt(sumN) / G.number_of_nodes())"
   ]
  },
  {
   "cell_type": "code",
   "execution_count": 693,
   "metadata": {
    "collapsed": false,
    "scrolled": false
   },
   "outputs": [
    {
     "name": "stdout",
     "output_type": "stream",
     "text": [
      "8189.98253966\n"
     ]
    }
   ],
   "source": [
    "print mean_squared_error(make_a_graph(d), .6, .1)"
   ]
  },
  {
   "cell_type": "markdown",
   "metadata": {
    "collapsed": true
   },
   "source": [
    "# Making graphs"
   ]
  },
  {
   "cell_type": "code",
   "execution_count": null,
   "metadata": {
    "collapsed": false
   },
   "outputs": [],
   "source": [
    "entry = data[0]\n",
    "#names = entry[0]\n",
    "d = entry[1]\n",
    "\n",
    "edges = []\n",
    "for key in d.keys():\n",
    "    links = d[key]\n",
    "    for link in links:\n",
    "        edge = (key, link)\n",
    "        edges.append(edge)\n",
    "        \n",
    "G = nx.DiGraph(edges)"
   ]
  },
  {
   "cell_type": "code",
   "execution_count": null,
   "metadata": {
    "collapsed": false
   },
   "outputs": [],
   "source": [
    "len(G.nodes())"
   ]
  },
  {
   "cell_type": "code",
   "execution_count": null,
   "metadata": {
    "collapsed": true
   },
   "outputs": [],
   "source": [
    "for alpha in [0.1*(x+1) for x in range(9)]:\n",
    "    nx.pagerank(G, alpha=alpha)"
   ]
  },
  {
   "cell_type": "code",
   "execution_count": null,
   "metadata": {
    "collapsed": false
   },
   "outputs": [],
   "source": [
    "nx.write_graphml(G, 'test_graph.graphml')"
   ]
  },
  {
   "cell_type": "code",
   "execution_count": null,
   "metadata": {
    "collapsed": false
   },
   "outputs": [],
   "source": [
    "nx.draw(G)"
   ]
  },
  {
   "cell_type": "markdown",
   "metadata": {
    "collapsed": true
   },
   "source": [
    "# Making random graphs"
   ]
  },
  {
   "cell_type": "code",
   "execution_count": null,
   "metadata": {
    "collapsed": true
   },
   "outputs": [],
   "source": [
    "# Erdos-Renyi"
   ]
  },
  {
   "cell_type": "code",
   "execution_count": null,
   "metadata": {
    "collapsed": false
   },
   "outputs": [],
   "source": [
    "n = 10\n",
    "p = .8\n",
    "er_G = nx.fast_gnp_random_graph(n, p, directed=True)"
   ]
  },
  {
   "cell_type": "code",
   "execution_count": null,
   "metadata": {
    "collapsed": false
   },
   "outputs": [],
   "source": [
    "nx.draw(er_G)"
   ]
  },
  {
   "cell_type": "code",
   "execution_count": 694,
   "metadata": {
    "collapsed": false
   },
   "outputs": [
    {
     "data": {
      "text/html": [
       "<div>\n",
       "<table border=\"1\" class=\"dataframe\">\n",
       "  <thead>\n",
       "    <tr style=\"text-align: right;\">\n",
       "      <th></th>\n",
       "      <th>0</th>\n",
       "      <th>1</th>\n",
       "      <th>2</th>\n",
       "      <th>3</th>\n",
       "      <th>4</th>\n",
       "      <th>5</th>\n",
       "      <th>6</th>\n",
       "      <th>7</th>\n",
       "      <th>8</th>\n",
       "      <th>9</th>\n",
       "      <th>10</th>\n",
       "      <th>11</th>\n",
       "      <th>12</th>\n",
       "      <th>13</th>\n",
       "      <th>14</th>\n",
       "      <th>15</th>\n",
       "      <th>16</th>\n",
       "      <th>17</th>\n",
       "      <th>18</th>\n",
       "    </tr>\n",
       "  </thead>\n",
       "  <tbody>\n",
       "  </tbody>\n",
       "</table>\n",
       "</div>"
      ],
      "text/plain": [
       "Empty DataFrame\n",
       "Columns: [0, 1, 2, 3, 4, 5, 6, 7, 8, 9, 10, 11, 12, 13, 14, 15, 16, 17, 18]\n",
       "Index: []"
      ]
     },
     "execution_count": 694,
     "metadata": {},
     "output_type": "execute_result"
    }
   ],
   "source": [
    "# construct a dataframe to store our data\n",
    "res = 20 # the resolution\n",
    "df_ER = pd.DataFrame(columns=range(res-1))\n",
    "df_ER"
   ]
  },
  {
   "cell_type": "code",
   "execution_count": 695,
   "metadata": {
    "collapsed": false
   },
   "outputs": [],
   "source": [
    "n_iterations = 10\n",
    "n_nodes = 50\n",
    "p_create_edge = 0.5\n",
    "for __ in xrange(n_iterations):\n",
    "    er_G = nx.fast_gnp_random_graph(n=n_nodes, p=p_create_edge, directed=True)\n",
    "    alpha_one = 0\n",
    "    errors = []\n",
    "    for alpha in [(1.0/res)*(x+1) for x in range(res-1)]:\n",
    "        pr_next = nx.pagerank(er_G, alpha=alpha) # compute new page rank\n",
    "        \n",
    "        # compute MSE\n",
    "        error = mean_squared_error(er_G, alpha_one, alpha)\n",
    "        errors.append(error)\n",
    "        \n",
    "        alpha_one = alpha # prepare for next iteration\n",
    "    new_row = pd.Series(errors)\n",
    "    df_ER = df_ER.append(new_row, ignore_index=True)"
   ]
  },
  {
   "cell_type": "code",
   "execution_count": 696,
   "metadata": {
    "collapsed": false
   },
   "outputs": [
    {
     "data": {
      "text/html": [
       "<div>\n",
       "<table border=\"1\" class=\"dataframe\">\n",
       "  <thead>\n",
       "    <tr style=\"text-align: right;\">\n",
       "      <th></th>\n",
       "      <th>0</th>\n",
       "      <th>1</th>\n",
       "      <th>2</th>\n",
       "      <th>3</th>\n",
       "      <th>4</th>\n",
       "      <th>5</th>\n",
       "      <th>6</th>\n",
       "      <th>7</th>\n",
       "      <th>8</th>\n",
       "      <th>9</th>\n",
       "      <th>10</th>\n",
       "      <th>11</th>\n",
       "      <th>12</th>\n",
       "      <th>13</th>\n",
       "      <th>14</th>\n",
       "      <th>15</th>\n",
       "      <th>16</th>\n",
       "      <th>17</th>\n",
       "      <th>18</th>\n",
       "    </tr>\n",
       "  </thead>\n",
       "  <tbody>\n",
       "    <tr>\n",
       "      <th>0</th>\n",
       "      <td>69.148391</td>\n",
       "      <td>1.000000</td>\n",
       "      <td>1.870829</td>\n",
       "      <td>1.224745</td>\n",
       "      <td>1.224745</td>\n",
       "      <td>1.414214</td>\n",
       "      <td>1.224745</td>\n",
       "      <td>1.224745</td>\n",
       "      <td>1.224745</td>\n",
       "      <td>1.000000</td>\n",
       "      <td>1.414214</td>\n",
       "      <td>2.121320</td>\n",
       "      <td>1.000000</td>\n",
       "      <td>0.000000</td>\n",
       "      <td>1.224745</td>\n",
       "      <td>0.707107</td>\n",
       "      <td>1.414214</td>\n",
       "      <td>1.414214</td>\n",
       "      <td>1.224745</td>\n",
       "    </tr>\n",
       "    <tr>\n",
       "      <th>1</th>\n",
       "      <td>69.903505</td>\n",
       "      <td>1.414214</td>\n",
       "      <td>1.000000</td>\n",
       "      <td>0.000000</td>\n",
       "      <td>1.224745</td>\n",
       "      <td>1.000000</td>\n",
       "      <td>1.224745</td>\n",
       "      <td>0.707107</td>\n",
       "      <td>1.224745</td>\n",
       "      <td>1.000000</td>\n",
       "      <td>1.000000</td>\n",
       "      <td>1.224745</td>\n",
       "      <td>1.732051</td>\n",
       "      <td>1.581139</td>\n",
       "      <td>1.414214</td>\n",
       "      <td>0.000000</td>\n",
       "      <td>1.000000</td>\n",
       "      <td>1.000000</td>\n",
       "      <td>0.707107</td>\n",
       "    </tr>\n",
       "    <tr>\n",
       "      <th>2</th>\n",
       "      <td>72.242647</td>\n",
       "      <td>1.000000</td>\n",
       "      <td>1.000000</td>\n",
       "      <td>2.345208</td>\n",
       "      <td>1.224745</td>\n",
       "      <td>1.000000</td>\n",
       "      <td>1.000000</td>\n",
       "      <td>1.581139</td>\n",
       "      <td>1.870829</td>\n",
       "      <td>2.000000</td>\n",
       "      <td>1.224745</td>\n",
       "      <td>1.224745</td>\n",
       "      <td>1.224745</td>\n",
       "      <td>1.414214</td>\n",
       "      <td>2.345208</td>\n",
       "      <td>1.000000</td>\n",
       "      <td>1.000000</td>\n",
       "      <td>0.707107</td>\n",
       "      <td>1.224745</td>\n",
       "    </tr>\n",
       "    <tr>\n",
       "      <th>3</th>\n",
       "      <td>64.027338</td>\n",
       "      <td>0.000000</td>\n",
       "      <td>1.224745</td>\n",
       "      <td>1.732051</td>\n",
       "      <td>1.870829</td>\n",
       "      <td>1.000000</td>\n",
       "      <td>1.224745</td>\n",
       "      <td>1.224745</td>\n",
       "      <td>0.000000</td>\n",
       "      <td>1.224745</td>\n",
       "      <td>1.414214</td>\n",
       "      <td>0.000000</td>\n",
       "      <td>1.414214</td>\n",
       "      <td>0.000000</td>\n",
       "      <td>1.000000</td>\n",
       "      <td>1.224745</td>\n",
       "      <td>1.581139</td>\n",
       "      <td>1.000000</td>\n",
       "      <td>0.707107</td>\n",
       "    </tr>\n",
       "    <tr>\n",
       "      <th>4</th>\n",
       "      <td>59.506302</td>\n",
       "      <td>1.000000</td>\n",
       "      <td>1.414214</td>\n",
       "      <td>0.707107</td>\n",
       "      <td>1.000000</td>\n",
       "      <td>1.000000</td>\n",
       "      <td>1.224745</td>\n",
       "      <td>0.707107</td>\n",
       "      <td>0.707107</td>\n",
       "      <td>1.581139</td>\n",
       "      <td>1.581139</td>\n",
       "      <td>1.732051</td>\n",
       "      <td>1.000000</td>\n",
       "      <td>1.000000</td>\n",
       "      <td>1.732051</td>\n",
       "      <td>0.000000</td>\n",
       "      <td>1.224745</td>\n",
       "      <td>1.000000</td>\n",
       "      <td>1.224745</td>\n",
       "    </tr>\n",
       "    <tr>\n",
       "      <th>5</th>\n",
       "      <td>68.793168</td>\n",
       "      <td>1.000000</td>\n",
       "      <td>1.000000</td>\n",
       "      <td>1.000000</td>\n",
       "      <td>1.414214</td>\n",
       "      <td>1.224745</td>\n",
       "      <td>1.414214</td>\n",
       "      <td>1.224745</td>\n",
       "      <td>1.000000</td>\n",
       "      <td>0.707107</td>\n",
       "      <td>1.870829</td>\n",
       "      <td>0.707107</td>\n",
       "      <td>1.414214</td>\n",
       "      <td>0.707107</td>\n",
       "      <td>1.000000</td>\n",
       "      <td>1.000000</td>\n",
       "      <td>1.224745</td>\n",
       "      <td>1.000000</td>\n",
       "      <td>1.000000</td>\n",
       "    </tr>\n",
       "    <tr>\n",
       "      <th>6</th>\n",
       "      <td>73.324621</td>\n",
       "      <td>1.414214</td>\n",
       "      <td>1.224745</td>\n",
       "      <td>1.414214</td>\n",
       "      <td>0.707107</td>\n",
       "      <td>1.414214</td>\n",
       "      <td>1.732051</td>\n",
       "      <td>1.732051</td>\n",
       "      <td>0.707107</td>\n",
       "      <td>1.000000</td>\n",
       "      <td>1.581139</td>\n",
       "      <td>1.224745</td>\n",
       "      <td>0.707107</td>\n",
       "      <td>1.732051</td>\n",
       "      <td>2.449490</td>\n",
       "      <td>1.000000</td>\n",
       "      <td>0.707107</td>\n",
       "      <td>2.000000</td>\n",
       "      <td>1.000000</td>\n",
       "    </tr>\n",
       "    <tr>\n",
       "      <th>7</th>\n",
       "      <td>67.955868</td>\n",
       "      <td>1.414214</td>\n",
       "      <td>1.414214</td>\n",
       "      <td>1.732051</td>\n",
       "      <td>1.581139</td>\n",
       "      <td>0.000000</td>\n",
       "      <td>0.000000</td>\n",
       "      <td>1.870829</td>\n",
       "      <td>1.000000</td>\n",
       "      <td>1.581139</td>\n",
       "      <td>1.224745</td>\n",
       "      <td>0.000000</td>\n",
       "      <td>1.414214</td>\n",
       "      <td>0.707107</td>\n",
       "      <td>1.224745</td>\n",
       "      <td>2.000000</td>\n",
       "      <td>2.236068</td>\n",
       "      <td>1.000000</td>\n",
       "      <td>1.414214</td>\n",
       "    </tr>\n",
       "    <tr>\n",
       "      <th>8</th>\n",
       "      <td>75.226325</td>\n",
       "      <td>1.224745</td>\n",
       "      <td>0.707107</td>\n",
       "      <td>0.707107</td>\n",
       "      <td>0.707107</td>\n",
       "      <td>1.870829</td>\n",
       "      <td>0.000000</td>\n",
       "      <td>0.707107</td>\n",
       "      <td>1.224745</td>\n",
       "      <td>1.000000</td>\n",
       "      <td>1.414214</td>\n",
       "      <td>2.549510</td>\n",
       "      <td>1.000000</td>\n",
       "      <td>0.707107</td>\n",
       "      <td>0.707107</td>\n",
       "      <td>1.414214</td>\n",
       "      <td>0.707107</td>\n",
       "      <td>1.224745</td>\n",
       "      <td>1.414214</td>\n",
       "    </tr>\n",
       "    <tr>\n",
       "      <th>9</th>\n",
       "      <td>77.942286</td>\n",
       "      <td>1.224745</td>\n",
       "      <td>1.414214</td>\n",
       "      <td>1.224745</td>\n",
       "      <td>1.000000</td>\n",
       "      <td>1.224745</td>\n",
       "      <td>0.707107</td>\n",
       "      <td>0.707107</td>\n",
       "      <td>1.000000</td>\n",
       "      <td>1.581139</td>\n",
       "      <td>1.732051</td>\n",
       "      <td>1.414214</td>\n",
       "      <td>1.414214</td>\n",
       "      <td>1.414214</td>\n",
       "      <td>1.732051</td>\n",
       "      <td>1.414214</td>\n",
       "      <td>2.121320</td>\n",
       "      <td>0.707107</td>\n",
       "      <td>1.000000</td>\n",
       "    </tr>\n",
       "  </tbody>\n",
       "</table>\n",
       "</div>"
      ],
      "text/plain": [
       "          0         1         2         3         4         5         6   \\\n",
       "0  69.148391  1.000000  1.870829  1.224745  1.224745  1.414214  1.224745   \n",
       "1  69.903505  1.414214  1.000000  0.000000  1.224745  1.000000  1.224745   \n",
       "2  72.242647  1.000000  1.000000  2.345208  1.224745  1.000000  1.000000   \n",
       "3  64.027338  0.000000  1.224745  1.732051  1.870829  1.000000  1.224745   \n",
       "4  59.506302  1.000000  1.414214  0.707107  1.000000  1.000000  1.224745   \n",
       "5  68.793168  1.000000  1.000000  1.000000  1.414214  1.224745  1.414214   \n",
       "6  73.324621  1.414214  1.224745  1.414214  0.707107  1.414214  1.732051   \n",
       "7  67.955868  1.414214  1.414214  1.732051  1.581139  0.000000  0.000000   \n",
       "8  75.226325  1.224745  0.707107  0.707107  0.707107  1.870829  0.000000   \n",
       "9  77.942286  1.224745  1.414214  1.224745  1.000000  1.224745  0.707107   \n",
       "\n",
       "         7         8         9         10        11        12        13  \\\n",
       "0  1.224745  1.224745  1.000000  1.414214  2.121320  1.000000  0.000000   \n",
       "1  0.707107  1.224745  1.000000  1.000000  1.224745  1.732051  1.581139   \n",
       "2  1.581139  1.870829  2.000000  1.224745  1.224745  1.224745  1.414214   \n",
       "3  1.224745  0.000000  1.224745  1.414214  0.000000  1.414214  0.000000   \n",
       "4  0.707107  0.707107  1.581139  1.581139  1.732051  1.000000  1.000000   \n",
       "5  1.224745  1.000000  0.707107  1.870829  0.707107  1.414214  0.707107   \n",
       "6  1.732051  0.707107  1.000000  1.581139  1.224745  0.707107  1.732051   \n",
       "7  1.870829  1.000000  1.581139  1.224745  0.000000  1.414214  0.707107   \n",
       "8  0.707107  1.224745  1.000000  1.414214  2.549510  1.000000  0.707107   \n",
       "9  0.707107  1.000000  1.581139  1.732051  1.414214  1.414214  1.414214   \n",
       "\n",
       "         14        15        16        17        18  \n",
       "0  1.224745  0.707107  1.414214  1.414214  1.224745  \n",
       "1  1.414214  0.000000  1.000000  1.000000  0.707107  \n",
       "2  2.345208  1.000000  1.000000  0.707107  1.224745  \n",
       "3  1.000000  1.224745  1.581139  1.000000  0.707107  \n",
       "4  1.732051  0.000000  1.224745  1.000000  1.224745  \n",
       "5  1.000000  1.000000  1.224745  1.000000  1.000000  \n",
       "6  2.449490  1.000000  0.707107  2.000000  1.000000  \n",
       "7  1.224745  2.000000  2.236068  1.000000  1.414214  \n",
       "8  0.707107  1.414214  0.707107  1.224745  1.414214  \n",
       "9  1.732051  1.414214  2.121320  0.707107  1.000000  "
      ]
     },
     "execution_count": 696,
     "metadata": {},
     "output_type": "execute_result"
    }
   ],
   "source": [
    "df_ER"
   ]
  },
  {
   "cell_type": "code",
   "execution_count": 697,
   "metadata": {
    "collapsed": true
   },
   "outputs": [],
   "source": [
    "means = []\n",
    "for col in df_ER.columns:\n",
    "    list_data = df_ER[col]\n",
    "    mean = np.mean(list_data)\n",
    "    means.append(mean)"
   ]
  },
  {
   "cell_type": "code",
   "execution_count": 698,
   "metadata": {
    "collapsed": false
   },
   "outputs": [
    {
     "data": {
      "text/plain": [
       "[<matplotlib.lines.Line2D at 0x11c445c10>]"
      ]
     },
     "execution_count": 698,
     "metadata": {},
     "output_type": "execute_result"
    },
    {
     "data": {
      "image/png": "[encoded data removed]",
      "text/plain": [
       "<matplotlib.figure.Figure at 0x127b9d1d0>"
      ]
     },
     "metadata": {},
     "output_type": "display_data"
    }
   ],
   "source": [
    "plt.plot(means[1:])"
   ]
  },
  {
   "cell_type": "code",
   "execution_count": null,
   "metadata": {
    "collapsed": true
   },
   "outputs": [],
   "source": [
    "#Newman-Watts-Strogatz"
   ]
  },
  {
   "cell_type": "code",
   "execution_count": null,
   "metadata": {
    "collapsed": true
   },
   "outputs": [],
   "source": [
    "n = 10\n",
    "k = 3\n",
    "p = .9\n",
    "# build random graph\n",
    "nws_G = nx.connected_watts_strogatz_graph(n, k, p)\n",
    "\n",
    "# make G directed\n",
    "edges = nws_G.edges()\n",
    "nws_G = nx.DiGraph(edges)"
   ]
  },
  {
   "cell_type": "code",
   "execution_count": null,
   "metadata": {
    "collapsed": false
   },
   "outputs": [],
   "source": [
    "nx.draw(nws_G)"
   ]
  },
  {
   "cell_type": "code",
   "execution_count": 699,
   "metadata": {
    "collapsed": false
   },
   "outputs": [
    {
     "data": {
      "text/html": [
       "<div>\n",
       "<table border=\"1\" class=\"dataframe\">\n",
       "  <thead>\n",
       "    <tr style=\"text-align: right;\">\n",
       "      <th></th>\n",
       "      <th>0</th>\n",
       "      <th>1</th>\n",
       "      <th>2</th>\n",
       "      <th>3</th>\n",
       "      <th>4</th>\n",
       "      <th>5</th>\n",
       "      <th>6</th>\n",
       "      <th>7</th>\n",
       "      <th>8</th>\n",
       "      <th>9</th>\n",
       "      <th>10</th>\n",
       "      <th>11</th>\n",
       "      <th>12</th>\n",
       "      <th>13</th>\n",
       "      <th>14</th>\n",
       "      <th>15</th>\n",
       "      <th>16</th>\n",
       "      <th>17</th>\n",
       "      <th>18</th>\n",
       "    </tr>\n",
       "  </thead>\n",
       "  <tbody>\n",
       "  </tbody>\n",
       "</table>\n",
       "</div>"
      ],
      "text/plain": [
       "Empty DataFrame\n",
       "Columns: [0, 1, 2, 3, 4, 5, 6, 7, 8, 9, 10, 11, 12, 13, 14, 15, 16, 17, 18]\n",
       "Index: []"
      ]
     },
     "execution_count": 699,
     "metadata": {},
     "output_type": "execute_result"
    }
   ],
   "source": [
    "# construct a dataframe to store our data\n",
    "res = 20 # the resolution\n",
    "df_NWS = pd.DataFrame(columns=range(res-1))\n",
    "df_NWS"
   ]
  },
  {
   "cell_type": "code",
   "execution_count": 700,
   "metadata": {
    "collapsed": false
   },
   "outputs": [],
   "source": [
    "n_iterations = 10\n",
    "n_nodes = 50\n",
    "k_connected = 10\n",
    "p_create_edge = 0.5\n",
    "for __ in xrange(n_iterations):\n",
    "    nws_G = nx.connected_watts_strogatz_graph(n=n_nodes, k=k_connected, p=p_create_edge)\n",
    "    alpha_one = 0\n",
    "    errors = []\n",
    "    for alpha in [(1.0/res)*(x+1) for x in range(res-1)]:\n",
    "        pr_next = nx.pagerank(nws_G, alpha=alpha) # compute new page rank\n",
    "        \n",
    "        # compute MSE\n",
    "        error = mean_squared_error(nws_G, alpha_one, alpha)\n",
    "        errors.append(error)\n",
    "        \n",
    "        alpha_one = alpha # prepare for next iteration\n",
    "    new_row = pd.Series(errors)\n",
    "    df_NWS = df_NWS.append(new_row, ignore_index=True)"
   ]
  },
  {
   "cell_type": "code",
   "execution_count": 701,
   "metadata": {
    "collapsed": false
   },
   "outputs": [
    {
     "data": {
      "text/html": [
       "<div>\n",
       "<table border=\"1\" class=\"dataframe\">\n",
       "  <thead>\n",
       "    <tr style=\"text-align: right;\">\n",
       "      <th></th>\n",
       "      <th>0</th>\n",
       "      <th>1</th>\n",
       "      <th>2</th>\n",
       "      <th>3</th>\n",
       "      <th>4</th>\n",
       "      <th>5</th>\n",
       "      <th>6</th>\n",
       "      <th>7</th>\n",
       "      <th>8</th>\n",
       "      <th>9</th>\n",
       "      <th>10</th>\n",
       "      <th>11</th>\n",
       "      <th>12</th>\n",
       "      <th>13</th>\n",
       "      <th>14</th>\n",
       "      <th>15</th>\n",
       "      <th>16</th>\n",
       "      <th>17</th>\n",
       "      <th>18</th>\n",
       "    </tr>\n",
       "  </thead>\n",
       "  <tbody>\n",
       "    <tr>\n",
       "      <th>0</th>\n",
       "      <td>74.883242</td>\n",
       "      <td>1.224745</td>\n",
       "      <td>1.224745</td>\n",
       "      <td>1.414214</td>\n",
       "      <td>1.581139</td>\n",
       "      <td>1.000000</td>\n",
       "      <td>1.224745</td>\n",
       "      <td>1.000000</td>\n",
       "      <td>1.000000</td>\n",
       "      <td>2.645751</td>\n",
       "      <td>0.000000</td>\n",
       "      <td>1.000000</td>\n",
       "      <td>0.707107</td>\n",
       "      <td>0.707107</td>\n",
       "      <td>0.000000</td>\n",
       "      <td>0.707107</td>\n",
       "      <td>0.707107</td>\n",
       "      <td>0.000000</td>\n",
       "      <td>0.707107</td>\n",
       "    </tr>\n",
       "    <tr>\n",
       "      <th>1</th>\n",
       "      <td>66.835619</td>\n",
       "      <td>2.000000</td>\n",
       "      <td>1.870829</td>\n",
       "      <td>1.000000</td>\n",
       "      <td>1.224745</td>\n",
       "      <td>1.000000</td>\n",
       "      <td>1.224745</td>\n",
       "      <td>1.224745</td>\n",
       "      <td>1.732051</td>\n",
       "      <td>1.870829</td>\n",
       "      <td>1.000000</td>\n",
       "      <td>1.224745</td>\n",
       "      <td>0.000000</td>\n",
       "      <td>0.707107</td>\n",
       "      <td>0.000000</td>\n",
       "      <td>1.000000</td>\n",
       "      <td>0.000000</td>\n",
       "      <td>1.000000</td>\n",
       "      <td>0.707107</td>\n",
       "    </tr>\n",
       "    <tr>\n",
       "      <th>2</th>\n",
       "      <td>69.663477</td>\n",
       "      <td>1.224745</td>\n",
       "      <td>1.870829</td>\n",
       "      <td>1.224745</td>\n",
       "      <td>1.224745</td>\n",
       "      <td>1.000000</td>\n",
       "      <td>1.414214</td>\n",
       "      <td>1.000000</td>\n",
       "      <td>0.707107</td>\n",
       "      <td>0.707107</td>\n",
       "      <td>0.000000</td>\n",
       "      <td>0.000000</td>\n",
       "      <td>0.000000</td>\n",
       "      <td>1.000000</td>\n",
       "      <td>0.000000</td>\n",
       "      <td>1.000000</td>\n",
       "      <td>0.707107</td>\n",
       "      <td>0.000000</td>\n",
       "      <td>0.707107</td>\n",
       "    </tr>\n",
       "    <tr>\n",
       "      <th>3</th>\n",
       "      <td>73.474485</td>\n",
       "      <td>1.414214</td>\n",
       "      <td>1.000000</td>\n",
       "      <td>1.224745</td>\n",
       "      <td>1.000000</td>\n",
       "      <td>1.581139</td>\n",
       "      <td>1.000000</td>\n",
       "      <td>1.870829</td>\n",
       "      <td>0.000000</td>\n",
       "      <td>0.707107</td>\n",
       "      <td>0.000000</td>\n",
       "      <td>0.707107</td>\n",
       "      <td>0.707107</td>\n",
       "      <td>1.224745</td>\n",
       "      <td>0.000000</td>\n",
       "      <td>1.224745</td>\n",
       "      <td>0.707107</td>\n",
       "      <td>0.707107</td>\n",
       "      <td>0.000000</td>\n",
       "    </tr>\n",
       "    <tr>\n",
       "      <th>4</th>\n",
       "      <td>71.700767</td>\n",
       "      <td>2.000000</td>\n",
       "      <td>1.581139</td>\n",
       "      <td>1.224745</td>\n",
       "      <td>1.000000</td>\n",
       "      <td>1.732051</td>\n",
       "      <td>0.000000</td>\n",
       "      <td>1.000000</td>\n",
       "      <td>1.581139</td>\n",
       "      <td>1.224745</td>\n",
       "      <td>1.000000</td>\n",
       "      <td>0.707107</td>\n",
       "      <td>0.000000</td>\n",
       "      <td>0.707107</td>\n",
       "      <td>1.000000</td>\n",
       "      <td>0.707107</td>\n",
       "      <td>1.000000</td>\n",
       "      <td>0.707107</td>\n",
       "      <td>1.581139</td>\n",
       "    </tr>\n",
       "    <tr>\n",
       "      <th>5</th>\n",
       "      <td>66.996269</td>\n",
       "      <td>1.224745</td>\n",
       "      <td>1.414214</td>\n",
       "      <td>1.732051</td>\n",
       "      <td>1.732051</td>\n",
       "      <td>2.345208</td>\n",
       "      <td>1.581139</td>\n",
       "      <td>0.707107</td>\n",
       "      <td>1.581139</td>\n",
       "      <td>1.870829</td>\n",
       "      <td>0.707107</td>\n",
       "      <td>0.000000</td>\n",
       "      <td>0.000000</td>\n",
       "      <td>0.000000</td>\n",
       "      <td>1.224745</td>\n",
       "      <td>0.707107</td>\n",
       "      <td>0.000000</td>\n",
       "      <td>0.707107</td>\n",
       "      <td>1.000000</td>\n",
       "    </tr>\n",
       "    <tr>\n",
       "      <th>6</th>\n",
       "      <td>70.039275</td>\n",
       "      <td>2.000000</td>\n",
       "      <td>1.581139</td>\n",
       "      <td>1.000000</td>\n",
       "      <td>2.345208</td>\n",
       "      <td>0.707107</td>\n",
       "      <td>1.414214</td>\n",
       "      <td>0.000000</td>\n",
       "      <td>1.000000</td>\n",
       "      <td>2.000000</td>\n",
       "      <td>0.000000</td>\n",
       "      <td>1.000000</td>\n",
       "      <td>1.000000</td>\n",
       "      <td>0.000000</td>\n",
       "      <td>0.000000</td>\n",
       "      <td>0.000000</td>\n",
       "      <td>1.000000</td>\n",
       "      <td>0.707107</td>\n",
       "      <td>1.000000</td>\n",
       "    </tr>\n",
       "    <tr>\n",
       "      <th>7</th>\n",
       "      <td>71.780917</td>\n",
       "      <td>1.732051</td>\n",
       "      <td>1.414214</td>\n",
       "      <td>2.121320</td>\n",
       "      <td>1.732051</td>\n",
       "      <td>1.870829</td>\n",
       "      <td>2.000000</td>\n",
       "      <td>2.121320</td>\n",
       "      <td>1.870829</td>\n",
       "      <td>1.000000</td>\n",
       "      <td>1.224745</td>\n",
       "      <td>1.224745</td>\n",
       "      <td>0.707107</td>\n",
       "      <td>0.707107</td>\n",
       "      <td>0.000000</td>\n",
       "      <td>0.707107</td>\n",
       "      <td>1.732051</td>\n",
       "      <td>0.707107</td>\n",
       "      <td>0.707107</td>\n",
       "    </tr>\n",
       "    <tr>\n",
       "      <th>8</th>\n",
       "      <td>74.719475</td>\n",
       "      <td>1.000000</td>\n",
       "      <td>1.414214</td>\n",
       "      <td>1.224745</td>\n",
       "      <td>1.732051</td>\n",
       "      <td>1.732051</td>\n",
       "      <td>1.581139</td>\n",
       "      <td>1.732051</td>\n",
       "      <td>1.581139</td>\n",
       "      <td>1.414214</td>\n",
       "      <td>1.224745</td>\n",
       "      <td>1.000000</td>\n",
       "      <td>1.000000</td>\n",
       "      <td>1.000000</td>\n",
       "      <td>0.707107</td>\n",
       "      <td>0.707107</td>\n",
       "      <td>0.000000</td>\n",
       "      <td>1.414214</td>\n",
       "      <td>0.707107</td>\n",
       "    </tr>\n",
       "    <tr>\n",
       "      <th>9</th>\n",
       "      <td>74.330344</td>\n",
       "      <td>0.707107</td>\n",
       "      <td>1.224745</td>\n",
       "      <td>1.414214</td>\n",
       "      <td>1.581139</td>\n",
       "      <td>1.000000</td>\n",
       "      <td>1.414214</td>\n",
       "      <td>0.707107</td>\n",
       "      <td>0.000000</td>\n",
       "      <td>0.000000</td>\n",
       "      <td>1.000000</td>\n",
       "      <td>0.000000</td>\n",
       "      <td>0.000000</td>\n",
       "      <td>0.707107</td>\n",
       "      <td>0.000000</td>\n",
       "      <td>0.707107</td>\n",
       "      <td>1.000000</td>\n",
       "      <td>0.707107</td>\n",
       "      <td>0.707107</td>\n",
       "    </tr>\n",
       "  </tbody>\n",
       "</table>\n",
       "</div>"
      ],
      "text/plain": [
       "          0         1         2         3         4         5         6   \\\n",
       "0  74.883242  1.224745  1.224745  1.414214  1.581139  1.000000  1.224745   \n",
       "1  66.835619  2.000000  1.870829  1.000000  1.224745  1.000000  1.224745   \n",
       "2  69.663477  1.224745  1.870829  1.224745  1.224745  1.000000  1.414214   \n",
       "3  73.474485  1.414214  1.000000  1.224745  1.000000  1.581139  1.000000   \n",
       "4  71.700767  2.000000  1.581139  1.224745  1.000000  1.732051  0.000000   \n",
       "5  66.996269  1.224745  1.414214  1.732051  1.732051  2.345208  1.581139   \n",
       "6  70.039275  2.000000  1.581139  1.000000  2.345208  0.707107  1.414214   \n",
       "7  71.780917  1.732051  1.414214  2.121320  1.732051  1.870829  2.000000   \n",
       "8  74.719475  1.000000  1.414214  1.224745  1.732051  1.732051  1.581139   \n",
       "9  74.330344  0.707107  1.224745  1.414214  1.581139  1.000000  1.414214   \n",
       "\n",
       "         7         8         9         10        11        12        13  \\\n",
       "0  1.000000  1.000000  2.645751  0.000000  1.000000  0.707107  0.707107   \n",
       "1  1.224745  1.732051  1.870829  1.000000  1.224745  0.000000  0.707107   \n",
       "2  1.000000  0.707107  0.707107  0.000000  0.000000  0.000000  1.000000   \n",
       "3  1.870829  0.000000  0.707107  0.000000  0.707107  0.707107  1.224745   \n",
       "4  1.000000  1.581139  1.224745  1.000000  0.707107  0.000000  0.707107   \n",
       "5  0.707107  1.581139  1.870829  0.707107  0.000000  0.000000  0.000000   \n",
       "6  0.000000  1.000000  2.000000  0.000000  1.000000  1.000000  0.000000   \n",
       "7  2.121320  1.870829  1.000000  1.224745  1.224745  0.707107  0.707107   \n",
       "8  1.732051  1.581139  1.414214  1.224745  1.000000  1.000000  1.000000   \n",
       "9  0.707107  0.000000  0.000000  1.000000  0.000000  0.000000  0.707107   \n",
       "\n",
       "         14        15        16        17        18  \n",
       "0  0.000000  0.707107  0.707107  0.000000  0.707107  \n",
       "1  0.000000  1.000000  0.000000  1.000000  0.707107  \n",
       "2  0.000000  1.000000  0.707107  0.000000  0.707107  \n",
       "3  0.000000  1.224745  0.707107  0.707107  0.000000  \n",
       "4  1.000000  0.707107  1.000000  0.707107  1.581139  \n",
       "5  1.224745  0.707107  0.000000  0.707107  1.000000  \n",
       "6  0.000000  0.000000  1.000000  0.707107  1.000000  \n",
       "7  0.000000  0.707107  1.732051  0.707107  0.707107  \n",
       "8  0.707107  0.707107  0.000000  1.414214  0.707107  \n",
       "9  0.000000  0.707107  1.000000  0.707107  0.707107  "
      ]
     },
     "execution_count": 701,
     "metadata": {},
     "output_type": "execute_result"
    }
   ],
   "source": [
    "df_NWS"
   ]
  },
  {
   "cell_type": "code",
   "execution_count": 702,
   "metadata": {
    "collapsed": true
   },
   "outputs": [],
   "source": [
    "means = []\n",
    "for col in df_NWS.columns:\n",
    "    list_data = df_NWS[col]\n",
    "    mean = np.mean(list_data)\n",
    "    means.append(mean)"
   ]
  },
  {
   "cell_type": "code",
   "execution_count": 703,
   "metadata": {
    "collapsed": false
   },
   "outputs": [
    {
     "data": {
      "text/plain": [
       "[<matplotlib.lines.Line2D at 0x122362cd0>]"
      ]
     },
     "execution_count": 703,
     "metadata": {},
     "output_type": "execute_result"
    },
    {
     "data": {
      "image/png": "[encoded data removed]",
      "text/plain": [
       "<matplotlib.figure.Figure at 0x1265a77d0>"
      ]
     },
     "metadata": {},
     "output_type": "display_data"
    }
   ],
   "source": [
    "plt.plot(means[1:], 'r--')"
   ]
  },
  {
   "cell_type": "code",
   "execution_count": null,
   "metadata": {
    "collapsed": true
   },
   "outputs": [],
   "source": [
    "#Internet"
   ]
  },
  {
   "cell_type": "code",
   "execution_count": 5,
   "metadata": {
    "collapsed": false
   },
   "outputs": [
    {
     "ename": "NameError",
     "evalue": "name 'pd' is not defined",
     "output_type": "error",
     "traceback": [
      "\u001b[0;31m---------------------------------------------------------------------------\u001b[0m",
      "\u001b[0;31mNameError\u001b[0m                                 Traceback (most recent call last)",
      "\u001b[0;32m<ipython-input-5-151f68f08870>\u001b[0m in \u001b[0;36m<module>\u001b[0;34m()\u001b[0m\n\u001b[1;32m      1\u001b[0m \u001b[0;31m# construct a dataframe to store our data\u001b[0m\u001b[0;34m\u001b[0m\u001b[0;34m\u001b[0m\u001b[0m\n\u001b[1;32m      2\u001b[0m \u001b[0mres\u001b[0m \u001b[0;34m=\u001b[0m \u001b[0;36m20\u001b[0m \u001b[0;31m# the resolution\u001b[0m\u001b[0;34m\u001b[0m\u001b[0m\n\u001b[0;32m----> 3\u001b[0;31m \u001b[0mdf_internet\u001b[0m \u001b[0;34m=\u001b[0m \u001b[0mpd\u001b[0m\u001b[0;34m.\u001b[0m\u001b[0mDataFrame\u001b[0m\u001b[0;34m(\u001b[0m\u001b[0mcolumns\u001b[0m\u001b[0;34m=\u001b[0m\u001b[0mrange\u001b[0m\u001b[0;34m(\u001b[0m\u001b[0mres\u001b[0m\u001b[0;34m-\u001b[0m\u001b[0;36m1\u001b[0m\u001b[0;34m)\u001b[0m\u001b[0;34m)\u001b[0m\u001b[0;34m\u001b[0m\u001b[0m\n\u001b[0m\u001b[1;32m      4\u001b[0m \u001b[0mdf_internet\u001b[0m\u001b[0;34m\u001b[0m\u001b[0m\n",
      "\u001b[0;31mNameError\u001b[0m: name 'pd' is not defined"
     ]
    }
   ],
   "source": [
    "# construct a dataframe to store our data\n",
    "res = 20 # the resolution\n",
    "df_internet = pd.DataFrame(columns=range(res-1))\n",
    "df_internet"
   ]
  },
  {
   "cell_type": "code",
   "execution_count": 6,
   "metadata": {
    "collapsed": false
   },
   "outputs": [
    {
     "ename": "NameError",
     "evalue": "name 'nx' is not defined",
     "output_type": "error",
     "traceback": [
      "\u001b[0;31m---------------------------------------------------------------------------\u001b[0m",
      "\u001b[0;31mNameError\u001b[0m                                 Traceback (most recent call last)",
      "\u001b[0;32m<ipython-input-6-fbeee71409eb>\u001b[0m in \u001b[0;36m<module>\u001b[0;34m()\u001b[0m\n\u001b[1;32m      4\u001b[0m     \u001b[0merrors\u001b[0m \u001b[0;34m=\u001b[0m \u001b[0;34m[\u001b[0m\u001b[0;34m]\u001b[0m\u001b[0;34m\u001b[0m\u001b[0m\n\u001b[1;32m      5\u001b[0m     \u001b[0;32mfor\u001b[0m \u001b[0malpha\u001b[0m \u001b[0;32min\u001b[0m \u001b[0;34m[\u001b[0m\u001b[0;34m(\u001b[0m\u001b[0;36m1.0\u001b[0m\u001b[0;34m/\u001b[0m\u001b[0mres\u001b[0m\u001b[0;34m)\u001b[0m\u001b[0;34m*\u001b[0m\u001b[0;34m(\u001b[0m\u001b[0mx\u001b[0m\u001b[0;34m+\u001b[0m\u001b[0;36m1\u001b[0m\u001b[0;34m)\u001b[0m \u001b[0;32mfor\u001b[0m \u001b[0mx\u001b[0m \u001b[0;32min\u001b[0m \u001b[0mrange\u001b[0m\u001b[0;34m(\u001b[0m\u001b[0mres\u001b[0m\u001b[0;34m-\u001b[0m\u001b[0;36m1\u001b[0m\u001b[0;34m)\u001b[0m\u001b[0;34m]\u001b[0m\u001b[0;34m:\u001b[0m\u001b[0;34m\u001b[0m\u001b[0m\n\u001b[0;32m----> 6\u001b[0;31m         \u001b[0mpr_next\u001b[0m \u001b[0;34m=\u001b[0m \u001b[0mnx\u001b[0m\u001b[0;34m.\u001b[0m\u001b[0mpagerank\u001b[0m\u001b[0;34m(\u001b[0m\u001b[0mG\u001b[0m\u001b[0;34m,\u001b[0m \u001b[0malpha\u001b[0m\u001b[0;34m=\u001b[0m\u001b[0malpha\u001b[0m\u001b[0;34m)\u001b[0m \u001b[0;31m# compute new page rank\u001b[0m\u001b[0;34m\u001b[0m\u001b[0m\n\u001b[0m\u001b[1;32m      7\u001b[0m \u001b[0;34m\u001b[0m\u001b[0m\n\u001b[1;32m      8\u001b[0m         \u001b[0;31m# compute MSE\u001b[0m\u001b[0;34m\u001b[0m\u001b[0;34m\u001b[0m\u001b[0m\n",
      "\u001b[0;31mNameError\u001b[0m: name 'nx' is not defined"
     ]
    }
   ],
   "source": [
    "n_iterations = 10\n",
    "for __ in xrange(n_iterations):\n",
    "    alpha_one = 0\n",
    "    errors = []\n",
    "    for alpha in [(1.0/res)*(x+1) for x in range(res-1)]:\n",
    "        pr_next = nx.pagerank(G, alpha=alpha) # compute new page rank\n",
    "        \n",
    "        # compute MSE\n",
    "        error = mean_squared_error(G, alpha_one, alpha) \n",
    "        errors.append(error)\n",
    "        \n",
    "        alpha_one = alpha # prepare for next iteration\n",
    "    new_row = pd.Series(errors)\n",
    "    df_internet = df_internet.append(new_row, ignore_index=True)"
   ]
  },
  {
   "cell_type": "code",
   "execution_count": 7,
   "metadata": {
    "collapsed": false
   },
   "outputs": [
    {
     "ename": "NameError",
     "evalue": "name 'df_internet' is not defined",
     "output_type": "error",
     "traceback": [
      "\u001b[0;31m---------------------------------------------------------------------------\u001b[0m",
      "\u001b[0;31mNameError\u001b[0m                                 Traceback (most recent call last)",
      "\u001b[0;32m<ipython-input-7-310539eea8a0>\u001b[0m in \u001b[0;36m<module>\u001b[0;34m()\u001b[0m\n\u001b[0;32m----> 1\u001b[0;31m \u001b[0mdf_internet\u001b[0m\u001b[0;34m\u001b[0m\u001b[0m\n\u001b[0m",
      "\u001b[0;31mNameError\u001b[0m: name 'df_internet' is not defined"
     ]
    }
   ],
   "source": [
    "df_internet"
   ]
  },
  {
   "cell_type": "code",
   "execution_count": null,
   "metadata": {
    "collapsed": true
   },
   "outputs": [],
   "source": [
    "means = []\n",
    "for col in df_internet.columns:\n",
    "    list_data = df_internet[col]\n",
    "    mean = np.mean(list_data)\n",
    "    means.append(mean)"
   ]
  },
  {
   "cell_type": "code",
   "execution_count": 1,
   "metadata": {
    "collapsed": false
   },
   "outputs": [
    {
     "ename": "NameError",
     "evalue": "name 'plt' is not defined",
     "output_type": "error",
     "traceback": [
      "\u001b[0;31m---------------------------------------------------------------------------\u001b[0m",
      "\u001b[0;31mNameError\u001b[0m                                 Traceback (most recent call last)",
      "\u001b[0;32m<ipython-input-1-852d6a6e9eab>\u001b[0m in \u001b[0;36m<module>\u001b[0;34m()\u001b[0m\n\u001b[0;32m----> 1\u001b[0;31m \u001b[0mplt\u001b[0m\u001b[0;34m.\u001b[0m\u001b[0mplot\u001b[0m\u001b[0;34m(\u001b[0m\u001b[0mmeans\u001b[0m\u001b[0;34m[\u001b[0m\u001b[0;36m1\u001b[0m\u001b[0;34m:\u001b[0m\u001b[0;34m]\u001b[0m\u001b[0;34m,\u001b[0m \u001b[0;34m'g-.'\u001b[0m\u001b[0;34m)\u001b[0m\u001b[0;34m\u001b[0m\u001b[0m\n\u001b[0m",
      "\u001b[0;31mNameError\u001b[0m: name 'plt' is not defined"
     ]
    }
   ],
   "source": [
    "plt.plot(means[1:], 'g-.')"
   ]
  },
  {
   "cell_type": "code",
   "execution_count": null,
   "metadata": {
    "collapsed": true
   },
   "outputs": [],
   "source": []
  },
  {
   "cell_type": "code",
   "execution_count": null,
   "metadata": {
    "collapsed": true
   },
   "outputs": [],
   "source": []
  }
 ],
 "metadata": {
  "kernelspec": {
   "display_name": "Python 2",
   "language": "python",
   "name": "python2"
  },
  "language_info": {
   "codemirror_mode": {
    "name": "ipython",
    "version": 2
   },
   "file_extension": ".py",
   "mimetype": "text/x-python",
   "name": "python",
   "nbconvert_exporter": "python",
   "pygments_lexer": "ipython2",
   "version": "2.7.13"
  }
 },
 "nbformat": 4,
 "nbformat_minor": 2
}
